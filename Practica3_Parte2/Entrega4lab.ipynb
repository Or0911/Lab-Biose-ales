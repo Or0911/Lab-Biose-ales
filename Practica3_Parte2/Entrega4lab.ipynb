{
  "nbformat": 4,
  "nbformat_minor": 0,
  "metadata": {
    "colab": {
      "provenance": []
    },
    "kernelspec": {
      "name": "python3",
      "display_name": "Python 3"
    },
    "language_info": {
      "name": "python"
    }
  },
  "cells": [
    {
      "cell_type": "markdown",
      "source": [
        "\n",
        "# Entrega 4\n",
        "\n",
        "***Laboratorio de Bioseñales***\n",
        "\n",
        "Orman Jesús Contreras Mulford\n",
        "\n",
        "Maria camila Melan Guerra\n"
      ],
      "metadata": {
        "id": "QyEyUagknzw1"
      }
    },
    {
      "cell_type": "code",
      "execution_count": 14,
      "metadata": {
        "id": "DaKyS7OBnYJr"
      },
      "outputs": [],
      "source": [
        "#librerias convencionales\n",
        "import numpy as np;\n",
        "#libreria para graficar\n",
        "import matplotlib.pyplot as plt\n",
        "from csv import reader as reader_csv;\n",
        "import scipy.signal as signal;\n",
        "\n"
      ]
    },
    {
      "cell_type": "code",
      "source": [
        "import scipy.io as sio;\n",
        "import numpy as np;\n",
        "import matplotlib.pyplot as plt\n",
        "import glob\n",
        "import pandas as pd\n",
        "import math\n",
        "import os\n",
        "import seaborn as sns\n",
        "import statsmodels.api as sm\n",
        "from scipy import stats\n",
        "from scipy.stats import shapiro , levene, mannwhitneyu\n",
        "from google.colab import drive\n",
        "drive.mount('/content/drive')   #permiso para trabajar con el drive"
      ],
      "metadata": {
        "colab": {
          "base_uri": "https://localhost:8080/"
        },
        "id": "6hZObebzpvzt",
        "outputId": "8dd6afbf-af7b-4df2-e3f8-cad851e5747d"
      },
      "execution_count": 15,
      "outputs": [
        {
          "output_type": "stream",
          "name": "stdout",
          "text": [
            "Drive already mounted at /content/drive; to attempt to forcibly remount, call drive.mount(\"/content/drive\", force_remount=True).\n"
          ]
        }
      ]
    },
    {
      "cell_type": "code",
      "source": [
        "!unzip /content/drive/MyDrive/Practica_4/datos_senales_datos_parkinson_cursos.zip #descomprimiendo carpeta"
      ],
      "metadata": {
        "colab": {
          "base_uri": "https://localhost:8080/"
        },
        "id": "4kfkH5cnp-DU",
        "outputId": "9fc53207-af3f-4638-a642-a2414b68cb44"
      },
      "execution_count": 16,
      "outputs": [
        {
          "output_type": "stream",
          "name": "stdout",
          "text": [
            "Archive:  /content/drive/MyDrive/Practica_4/datos_senales_datos_parkinson_cursos.zip\n",
            "   creating: control/\n",
            "  inflating: control/C001R_EP_reposo.mat  \n",
            "  inflating: control/C002_EP_reposo.mat  \n",
            "  inflating: control/C004_EP_reposo.mat  \n",
            "  inflating: control/C005_EP_reposo_Repetido.mat  \n",
            "  inflating: control/C006_EP_reposo.mat  \n",
            "  inflating: control/C007_EP_reposo.mat  \n",
            "  inflating: control/C010_EP_reposo.mat  \n",
            "  inflating: control/C011_EP_reposo.mat  \n",
            "  inflating: control/C012_EP_reposo.mat  \n",
            "  inflating: control/C013_EP_reposo.mat  \n",
            "  inflating: control/C015_EP_reposo.mat  \n",
            "  inflating: control/C018_EP_reposo.mat  \n",
            "  inflating: control/C019_EP_reposo.mat  \n",
            "  inflating: control/C020_EP_reposo.mat  \n",
            "  inflating: control/C021_EP_reposo.mat  \n",
            "  inflating: control/C023_EP_reposo.mat  \n",
            "  inflating: control/C024_EP_reposo.mat  \n",
            "  inflating: control/C025_EP_reposo.mat  \n",
            "  inflating: control/C026_EP_reposo.mat  \n",
            "  inflating: control/C027_EP_reposo.mat  \n",
            "  inflating: control/C028_EP_reposo.mat  \n",
            "  inflating: control/C029_EP_reposo.mat  \n",
            "  inflating: control/C030_EP_reposo.mat  \n",
            "  inflating: control/C031_EP_reposo.mat  \n",
            "  inflating: control/C032_EP_reposo.mat  \n",
            "  inflating: control/C033R_EP_reposo.mat  \n",
            "  inflating: control/C034_EP_reposo.mat  \n",
            "  inflating: control/C036_EP_reposo.mat  \n",
            "  inflating: control/C037_EP_reposo.mat  \n",
            "  inflating: control/C040_EP_reposo.mat  \n",
            "  inflating: control/C041_EP_reposo.mat  \n",
            "  inflating: control/C042_EP_reposo.mat  \n",
            "  inflating: control/C044_EP_reposo.mat  \n",
            "  inflating: control/C045_EP_reposo.mat  \n",
            "  inflating: control/C046_EP_reposo.mat  \n",
            "  inflating: control/C049_EP_reposo.mat  \n",
            "   creating: parkinson/\n",
            "  inflating: parkinson/P001_EP_reposo.mat  \n",
            "  inflating: parkinson/P004_EP_reposo.mat  \n",
            "  inflating: parkinson/P005_EP_reposo.mat  \n",
            "  inflating: parkinson/P007_EP_reposo.mat  \n",
            "  inflating: parkinson/P012_EP_reposo.mat  \n",
            "  inflating: parkinson/P013_EP_reposo.mat  \n",
            "  inflating: parkinson/P015_EP_reposo.mat  \n",
            "  inflating: parkinson/P016_EP_reposo.mat  \n",
            "  inflating: parkinson/P017_EP_reposo.mat  \n",
            "  inflating: parkinson/P018_EP_reposo.mat  \n",
            "  inflating: parkinson/P020_EP_reposo.mat  \n",
            "  inflating: parkinson/P025_EP_reposo.mat  \n",
            "  inflating: parkinson/P026_EP_reposo.mat  \n",
            "  inflating: parkinson/P028_EP_reposo.mat  \n",
            "  inflating: parkinson/P030_EP_reposo.mat  \n",
            "  inflating: parkinson/P032_EP_reposo.mat  \n",
            "  inflating: parkinson/P033_EP_reposo.mat  \n",
            "  inflating: parkinson/P034_EP_reposo.mat  \n",
            "  inflating: parkinson/P040_EP_reposo.mat  \n",
            "  inflating: parkinson/P041_EP_reposo.mat  \n",
            "  inflating: parkinson/P046_EP_reposo.mat  \n",
            "  inflating: parkinson/P048_EP_reposo.mat  \n",
            "  inflating: parkinson/P049_EP_reposo.mat  \n"
          ]
        }
      ]
    },
    {
      "cell_type": "code",
      "source": [
        "control = glob.glob('/content/control/*.mat')  # se buscan los archivos mat en la carpetas\n",
        "parkinson = glob.glob('/content/parkinson/*.mat')\n"
      ],
      "metadata": {
        "id": "OOX5R_4frlw5"
      },
      "execution_count": 17,
      "outputs": []
    },
    {
      "cell_type": "code",
      "source": [
        "data = sio.loadmat(control[0]); #se extrae un archivo de la carpeta control\n",
        "data = data['data']  #se guarda en la variable data\n",
        "\n",
        "print(data.shape)"
      ],
      "metadata": {
        "colab": {
          "base_uri": "https://localhost:8080/"
        },
        "id": "E-rLz-519bxT",
        "outputId": "e8682c0d-235a-4b67-e52e-023e9c13159c"
      },
      "execution_count": 18,
      "outputs": [
        {
          "output_type": "stream",
          "name": "stdout",
          "text": [
            "(8, 2000, 179)\n"
          ]
        }
      ]
    },
    {
      "cell_type": "code",
      "source": [
        "import os\n",
        "directorio_actual=os.getcwd()\n",
        "print(directorio_actual)"
      ],
      "metadata": {
        "colab": {
          "base_uri": "https://localhost:8080/"
        },
        "id": "fbTBW9Xi-EWH",
        "outputId": "0e95a272-c009-4033-9be7-742077618216"
      },
      "execution_count": 19,
      "outputs": [
        {
          "output_type": "stream",
          "name": "stdout",
          "text": [
            "/content\n"
          ]
        }
      ]
    },
    {
      "cell_type": "code",
      "source": [
        "archivos_control=os.listdir(directorio_actual + \"/control\")\n",
        "print(len(archivos_control))"
      ],
      "metadata": {
        "colab": {
          "base_uri": "https://localhost:8080/"
        },
        "id": "HXlrxqew-Gu9",
        "outputId": "29863357-962c-496f-ca76-fb1385ff77c3"
      },
      "execution_count": 20,
      "outputs": [
        {
          "output_type": "stream",
          "name": "stdout",
          "text": [
            "36\n"
          ]
        }
      ]
    },
    {
      "cell_type": "code",
      "source": [
        "archivos_control[7]"
      ],
      "metadata": {
        "colab": {
          "base_uri": "https://localhost:8080/",
          "height": 35
        },
        "id": "-oGKkZqq-ReF",
        "outputId": "5bea2557-a22a-4034-9d39-3ad38d3155e4"
      },
      "execution_count": 21,
      "outputs": [
        {
          "output_type": "execute_result",
          "data": {
            "text/plain": [
              "'C044_EP_reposo.mat'"
            ],
            "application/vnd.google.colaboratory.intrinsic+json": {
              "type": "string"
            }
          },
          "metadata": {},
          "execution_count": 21
        }
      ]
    },
    {
      "cell_type": "code",
      "source": [
        "#ruta de un archivo\n",
        "path_subjecti=(directorio_actual + \"/control\" + \"/\" + archivos_control[7])\n",
        "#1 CARGAR EL ARCHIVO\n",
        "dato = sio.loadmat(path_subjecti)\n",
        "dato=dato['data']"
      ],
      "metadata": {
        "id": "cZSGj-ga-Yqd"
      },
      "execution_count": 22,
      "outputs": []
    },
    {
      "cell_type": "code",
      "source": [
        "dato.shape"
      ],
      "metadata": {
        "colab": {
          "base_uri": "https://localhost:8080/"
        },
        "id": "Kn3ThgxU_LT5",
        "outputId": "5f55a3cb-8f18-4be3-c25b-1dca010df525"
      },
      "execution_count": 23,
      "outputs": [
        {
          "output_type": "execute_result",
          "data": {
            "text/plain": [
              "(8, 2000, 258)"
            ]
          },
          "metadata": {},
          "execution_count": 23
        }
      ]
    },
    {
      "cell_type": "code",
      "source": [
        "archivos_parkinson=os.listdir(directorio_actual + \"/parkinson\")\n",
        "print(len(archivos_parkinson))"
      ],
      "metadata": {
        "colab": {
          "base_uri": "https://localhost:8080/"
        },
        "id": "trYoWwbwthJK",
        "outputId": "abcd1f6b-8234-4616-8280-a8f4bc8ce7e6"
      },
      "execution_count": 24,
      "outputs": [
        {
          "output_type": "stream",
          "name": "stdout",
          "text": [
            "23\n"
          ]
        }
      ]
    },
    {
      "cell_type": "code",
      "source": [
        "#ruta de un archivo\n",
        "path_subjec=(directorio_actual + \"/parkinson\" + \"/\" + archivos_parkinson[7])\n",
        "#1 CARGAR EL ARCHIVO\n",
        "datop = sio.loadmat(path_subjec)\n",
        "datop=datop['data']"
      ],
      "metadata": {
        "id": "bF6K3Jb3RNdc"
      },
      "execution_count": 25,
      "outputs": []
    },
    {
      "cell_type": "code",
      "source": [
        "datop.shape"
      ],
      "metadata": {
        "colab": {
          "base_uri": "https://localhost:8080/"
        },
        "id": "z6M6q2PVSOL_",
        "outputId": "b30f679b-3c2d-42a9-c999-e9db679133b4"
      },
      "execution_count": 27,
      "outputs": [
        {
          "output_type": "execute_result",
          "data": {
            "text/plain": [
              "(8, 2000, 143)"
            ]
          },
          "metadata": {},
          "execution_count": 27
        }
      ]
    },
    {
      "cell_type": "markdown",
      "source": [
        "# 1.\n",
        "\n",
        "\n",
        "![image.png](data:image/png;base64,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)"
      ],
      "metadata": {
        "id": "gr3AawL7_S4U"
      }
    },
    {
      "cell_type": "code",
      "source": [
        "# Defino la función que Calcula el Valor Cuadrático Medio (RMS) de una señal discreta.\n",
        "def RMS(signal):\n",
        "    # Elevar al cuadrado cada elemento de la señal\n",
        "    squared_values = np.square(signal)\n",
        "\n",
        "    # Calcular el promedio de los valores al cuadrado\n",
        "    mean_squared = np.mean(squared_values)\n",
        "\n",
        "    # Calcular la raíz cuadrada del promedio de los valores al cuadrado\n",
        "    rms = np.sqrt(mean_squared)\n",
        "\n",
        "    return rms"
      ],
      "metadata": {
        "id": "NGi3R_Fr_Pvx"
      },
      "execution_count": 28,
      "outputs": []
    },
    {
      "cell_type": "markdown",
      "source": [
        "#1. Implemente una función que reciba una señal de múltiples canales y épocas y calcule la Energía de promedio de cada canal."
      ],
      "metadata": {
        "id": "YhV4iZGnKpSl"
      }
    },
    {
      "cell_type": "markdown",
      "source": [
        "- Organizo las señales tanto de control como de parkinson"
      ],
      "metadata": {
        "id": "BLmaItn8pwfk"
      }
    },
    {
      "cell_type": "code",
      "source": [
        "directorio_actual=os.getcwd();\n",
        "print(directorio_actual)\n",
        "\n",
        "#listando los archivos en el directorio\n",
        "archivos=os.listdir(directorio_actual + \"/control\")\n",
        "print(len(archivos))\n",
        "\n",
        "fs = 1000;\n",
        "num_canales = 8;"
      ],
      "metadata": {
        "colab": {
          "base_uri": "https://localhost:8080/"
        },
        "id": "5Sn1cegAM7mv",
        "outputId": "8e55c298-40a1-4908-f585-c52e8df7ec77"
      },
      "execution_count": 29,
      "outputs": [
        {
          "output_type": "stream",
          "name": "stdout",
          "text": [
            "/content\n",
            "36\n"
          ]
        }
      ]
    },
    {
      "cell_type": "code",
      "source": [
        "#CARGAMOS LOS CONTROLES\n",
        "for i in range(0,len(archivos_control)):\n",
        "    #ruta de un archivo\n",
        "    sujetoi=(directorio_actual + \"/control\" + \"/\" + archivos_control[i]);\n",
        "    #1 CARGAR EL ARCHIVO\n",
        "    data = sio.loadmat(sujetoi);\n",
        "    data = data[\"data\"];\n",
        "\n",
        "    #2 VOLVERLO CONTINUO\n",
        "    sensores = data.shape[0];\n",
        "    puntos = data.shape[1];\n",
        "    epocas = data.shape[2];\n",
        "\n",
        "    senal_continua = np.reshape(data,(sensores, puntos*epocas), order = 'F');\n"
      ],
      "metadata": {
        "id": "ymW8Eqn_NFIu"
      },
      "execution_count": 30,
      "outputs": []
    },
    {
      "cell_type": "code",
      "source": [
        "senal_continua.shape"
      ],
      "metadata": {
        "colab": {
          "base_uri": "https://localhost:8080/"
        },
        "id": "Yr277452XazA",
        "outputId": "e480556e-9fb1-4b79-d587-57806aff45fc"
      },
      "execution_count": 31,
      "outputs": [
        {
          "output_type": "execute_result",
          "data": {
            "text/plain": [
              "(8, 308000)"
            ]
          },
          "metadata": {},
          "execution_count": 31
        }
      ]
    },
    {
      "cell_type": "code",
      "source": [
        "#CARGAMOS LOS PARKINSON\n",
        "for i in range(0,len(archivos_parkinson)):\n",
        "    #ruta de un archivo\n",
        "    sujeto_p=(directorio_actual + \"/parkinson\" + \"/\" + archivos_parkinson[i]);\n",
        "    #1 CARGAR EL ARCHIVO\n",
        "    dato_p = sio.loadmat(sujeto_p);\n",
        "    dato_p = dato_p[\"data\"];\n",
        "\n",
        "    #2 VOLVERLO CONTINUO\n",
        "    sensores_p = dato_p.shape[0];\n",
        "    puntos_p = dato_p.shape[1];\n",
        "    epocas_p = dato_p.shape[2];\n",
        "\n",
        "    senal_continua_p = np.reshape(dato_p,(sensores_p, puntos_p*epocas_p), order = 'F');"
      ],
      "metadata": {
        "id": "hMdosy28snnl"
      },
      "execution_count": 32,
      "outputs": []
    },
    {
      "cell_type": "code",
      "source": [
        "senal_continua_p.shape"
      ],
      "metadata": {
        "colab": {
          "base_uri": "https://localhost:8080/"
        },
        "id": "850-3gP9TDIH",
        "outputId": "a3f96fcd-8d57-46c1-c706-173e362e4d5e"
      },
      "execution_count": 33,
      "outputs": [
        {
          "output_type": "execute_result",
          "data": {
            "text/plain": [
              "(8, 396000)"
            ]
          },
          "metadata": {},
          "execution_count": 33
        }
      ]
    },
    {
      "cell_type": "markdown",
      "source": [
        "- Creo la función que me resiva la señal de multiples canales y epocas"
      ],
      "metadata": {
        "id": "d-ZzfFXup6vf"
      }
    },
    {
      "cell_type": "code",
      "source": [
        "\n",
        "def RMS_promedio(signal):\n",
        "  rms_promedio = []\n",
        "  num_canales, longitud_señal = signal.shape\n",
        "  for canal in range(num_canales):\n",
        "    s=signal[canal, :]\n",
        "    rms_pro= RMS(s)\n",
        "    rms_promedio.append(rms_pro)\n",
        "\n",
        "\n",
        "  return rms_promedio"
      ],
      "metadata": {
        "id": "acfufId5KxlG"
      },
      "execution_count": 34,
      "outputs": []
    },
    {
      "cell_type": "code",
      "source": [
        "senal_continua.shape"
      ],
      "metadata": {
        "colab": {
          "base_uri": "https://localhost:8080/"
        },
        "id": "7mnAff7yiaHf",
        "outputId": "243b5a29-e6c7-4bff-cbdc-8e42f1ca0a04"
      },
      "execution_count": 35,
      "outputs": [
        {
          "output_type": "execute_result",
          "data": {
            "text/plain": [
              "(8, 308000)"
            ]
          },
          "metadata": {},
          "execution_count": 35
        }
      ]
    },
    {
      "cell_type": "code",
      "source": [
        " RMS_prom_canal = RMS_promedio(senal_continua)"
      ],
      "metadata": {
        "id": "65eyZbyVLpYF"
      },
      "execution_count": 36,
      "outputs": []
    },
    {
      "cell_type": "markdown",
      "source": [
        "Imprimo los resultados de la función, para la señal de control."
      ],
      "metadata": {
        "id": "iYIS98B_n5k3"
      }
    },
    {
      "cell_type": "code",
      "source": [
        "print(RMS_prom_canal)"
      ],
      "metadata": {
        "colab": {
          "base_uri": "https://localhost:8080/"
        },
        "id": "CJPFYcGkYk09",
        "outputId": "a1394bc0-1a04-4fec-9ce2-a364cabea0b3"
      },
      "execution_count": 37,
      "outputs": [
        {
          "output_type": "stream",
          "name": "stdout",
          "text": [
            "[1.8779637071637487, 1.8004665439443197, 1.8348883606171802, 1.798144972969315, 1.8313057933078092, 2.939816798022907, 2.881406839008531, 3.029046251989119]\n"
          ]
        }
      ]
    },
    {
      "cell_type": "markdown",
      "source": [
        "Imprimo los resultados para los pacientes con parkinso"
      ],
      "metadata": {
        "id": "tzFLIw6_pLOd"
      }
    },
    {
      "cell_type": "code",
      "source": [
        "senal_continua_p.shape"
      ],
      "metadata": {
        "colab": {
          "base_uri": "https://localhost:8080/"
        },
        "id": "WUj35_vFU2qe",
        "outputId": "b812f6fe-45c7-45b1-c1bc-ebed383900ef"
      },
      "execution_count": 38,
      "outputs": [
        {
          "output_type": "execute_result",
          "data": {
            "text/plain": [
              "(8, 396000)"
            ]
          },
          "metadata": {},
          "execution_count": 38
        }
      ]
    },
    {
      "cell_type": "code",
      "source": [
        "rms_par=RMS_promedio(senal_continua_p)\n",
        "print(rms_par)"
      ],
      "metadata": {
        "id": "RCb1pAMVpJh0",
        "colab": {
          "base_uri": "https://localhost:8080/"
        },
        "outputId": "e6a68f44-e771-4dce-91d4-d08eae11f6eb"
      },
      "execution_count": 39,
      "outputs": [
        {
          "output_type": "stream",
          "name": "stdout",
          "text": [
            "[4.9968906994042745, 4.797420934172712, 4.834589263017398, 4.642698694622628, 4.6326702790126, 14.574603247124587, 11.902637266682943, 14.29863675581725]\n"
          ]
        }
      ]
    },
    {
      "cell_type": "markdown",
      "source": [
        "# 2. Calcule la energía de cada canal promediada por épocas para cada sujeto, esto para ambos grupos poblacionales. Guarde esta información en un DataFrame de columnas ‘canal’ y filas ‘#sujeto’ con los valores de energía calculados, un DataFrame para cada grupo poblacional."
      ],
      "metadata": {
        "id": "oxv6PmFJoHkh"
      }
    },
    {
      "cell_type": "markdown",
      "source": [
        "- Creo el dataframe para el grupo control"
      ],
      "metadata": {
        "id": "6btCbq-OYp8J"
      }
    },
    {
      "cell_type": "code",
      "source": [
        "#se crean las lista para llenar con la información.\n",
        "c0,c1,c2,c3,c4,c5,c6,c7=[], [], [], [], [], [], [], []\n",
        "Canales_sujeto_control= []\n",
        "Canales=[]\n",
        "sc= []\n",
        "status=[]\n",
        "\n",
        "for sujeto_c in range(len(control)): # se hace un for que me recorre los sujeros de control\n",
        "\n",
        "  subj = control[sujeto_c].split('/')\n",
        "  subj= subj[len(subj)-1].split('.')\n",
        "  sc.append(subj[0])  # se extrae el ID del sujeto de la ruta del archivo y lo agrega a la lista sc\n",
        "  status.append(\"CONTROL\") #se agrega el estado del sujeto en la lista status\n",
        "  Datos_sujeto_control = sio.loadmat(control[sujeto_c]) #se carga el archivo de datos para el sujeto utilizando la función loadmat\n",
        "  senal_c = Datos_sujeto_control['data']\n",
        "   #2 VOLVERLO CONTINUO\n",
        "  se = senal_c.shape[0];\n",
        "  pu = senal_c.shape[1];\n",
        "  epo= senal_c.shape[2];\n",
        "\n",
        "  senal_cont= np.reshape(senal_c,(se, pu*epo), order = 'F');\n",
        "  Canales_sujeto_control.append(RMS_promedio(senal_cont)) #se saca el rms para cada uno de los archivos de control\n",
        "  # y se guardan en la lista Canales_sujeto_control\n",
        "\n",
        "  #Se preparan las listas para la crecaion del dataframe\n",
        "Canales.extend(Canales_sujeto_control) #se concatenan las listas de los pacientes control\n",
        "\n",
        "for c in Canales: #Se genera un for que me recorre la lisat canales y me lo guarda en una lista idependiente para la creación del Dataframe\n",
        "  c0.append(c[0])\n",
        "  c1.append(c[1])\n",
        "  c2.append(c[2])\n",
        "  c3.append(c[3])\n",
        "  c4.append(c[4])\n",
        "  c5.append(c[5])\n",
        "  c6.append(c[6])\n",
        "  c7.append(c[7])"
      ],
      "metadata": {
        "id": "UTMZOqnkdAB6"
      },
      "execution_count": 40,
      "outputs": []
    },
    {
      "cell_type": "code",
      "source": [
        "#Se asignan las listas a cada una de las columnas del dataframe\n",
        "Dframe_c= pd.DataFrame(list(zip(sc,status,c0,c1,c2,c3,c4,c5,c6,c7)), columns = ['SUJETO','ESTADO','CANAL_1','CANAL_2','CANAL_3','CANAL_4','CANAL_5','CANAL_6','CANAL_7','CANAL_8'])\n",
        "Dframe_c"
      ],
      "metadata": {
        "colab": {
          "base_uri": "https://localhost:8080/",
          "height": 1000
        },
        "id": "1YARUn0wXdgW",
        "outputId": "f3b6ce66-a652-4b29-f8c7-400eec98b664"
      },
      "execution_count": 41,
      "outputs": [
        {
          "output_type": "execute_result",
          "data": {
            "text/plain": [
              "                     SUJETO   ESTADO   CANAL_1   CANAL_2   CANAL_3   CANAL_4  \\\n",
              "0            C019_EP_reposo  CONTROL  4.125318  4.199776  4.343273  3.898911   \n",
              "1            C036_EP_reposo  CONTROL  2.314863  2.083070  1.191203  1.457257   \n",
              "2            C018_EP_reposo  CONTROL  3.952879  3.480142  3.761523  3.562217   \n",
              "3            C042_EP_reposo  CONTROL  4.715703  5.856181  6.224225  6.316118   \n",
              "4   C005_EP_reposo_Repetido  CONTROL  4.201863  4.178318  4.404567  4.208743   \n",
              "5            C028_EP_reposo  CONTROL  2.849372  2.539675  2.488602  2.466562   \n",
              "6           C001R_EP_reposo  CONTROL  3.276099  3.239283  3.373437  3.041845   \n",
              "7            C044_EP_reposo  CONTROL  2.874532  3.006220  3.540114  3.387208   \n",
              "8            C040_EP_reposo  CONTROL  4.020029  4.341877  4.615949  3.824422   \n",
              "9            C024_EP_reposo  CONTROL  4.068230  4.306021  4.909726  4.345020   \n",
              "10           C027_EP_reposo  CONTROL  2.202564  2.038455  2.374255  1.889310   \n",
              "11           C031_EP_reposo  CONTROL  2.720134  3.562298  2.679181  2.478776   \n",
              "12           C015_EP_reposo  CONTROL  2.963736  3.296855  3.835968  3.776917   \n",
              "13           C029_EP_reposo  CONTROL  2.583850  2.457544  2.455275  2.601644   \n",
              "14          C033R_EP_reposo  CONTROL  2.433127  3.636794  2.757838  2.547230   \n",
              "15           C013_EP_reposo  CONTROL  4.856262  5.249181  5.113066  4.164292   \n",
              "16           C034_EP_reposo  CONTROL  4.767270  4.618453  4.697842  5.041326   \n",
              "17           C041_EP_reposo  CONTROL  3.701769  3.244217  4.747758  4.974569   \n",
              "18           C025_EP_reposo  CONTROL  5.202848  4.955079  5.157234  5.349030   \n",
              "19           C049_EP_reposo  CONTROL  3.245374  2.975237  3.025361  3.349511   \n",
              "20           C023_EP_reposo  CONTROL  2.787134  3.685889  3.955700  3.319425   \n",
              "21           C004_EP_reposo  CONTROL  2.659763  3.023574  3.791433  2.671210   \n",
              "22           C012_EP_reposo  CONTROL  2.136941  2.146410  2.411059  2.324825   \n",
              "23           C030_EP_reposo  CONTROL  2.441376  2.488082  2.402696  2.410003   \n",
              "24           C046_EP_reposo  CONTROL  2.852440  2.556944  2.624447  2.529348   \n",
              "25           C045_EP_reposo  CONTROL  2.389531  2.636220  2.801198  2.157637   \n",
              "26           C037_EP_reposo  CONTROL  3.718129  3.893366  4.335398  3.592440   \n",
              "27           C006_EP_reposo  CONTROL  3.042271  3.141535  3.233558  3.303654   \n",
              "28           C010_EP_reposo  CONTROL  2.366174  2.339698  2.523589  2.317883   \n",
              "29           C032_EP_reposo  CONTROL  3.415512  3.301073  3.166785  3.058052   \n",
              "30           C002_EP_reposo  CONTROL  2.825456  2.967980  3.225286  3.134837   \n",
              "31           C021_EP_reposo  CONTROL  3.592186  3.946412  3.784203  3.242359   \n",
              "32           C011_EP_reposo  CONTROL  3.778301  3.619726  2.948220  2.936376   \n",
              "33           C020_EP_reposo  CONTROL  1.567652  1.747262  1.607413  1.438353   \n",
              "34           C007_EP_reposo  CONTROL  2.567110  2.638676  2.847718  2.482427   \n",
              "35           C026_EP_reposo  CONTROL  1.877964  1.800467  1.834888  1.798145   \n",
              "\n",
              "     CANAL_5    CANAL_6    CANAL_7    CANAL_8  \n",
              "0   4.015907   8.654621   9.854405  11.622417  \n",
              "1   1.992586   3.515789   3.245158   3.127411  \n",
              "2   4.066906  10.973493   8.832611  11.791848  \n",
              "3   5.932387  13.141030  10.384459  12.224536  \n",
              "4   4.237067   7.300621   7.310457   7.500692  \n",
              "5   3.104830   5.374409   5.176020   5.867678  \n",
              "6   3.855526   3.552757   3.375006   3.511310  \n",
              "7   3.488364   5.921014   5.635114   5.995475  \n",
              "8   3.666801   5.841388   5.119469   6.004825  \n",
              "9   3.764517   7.112335   6.626643   8.280819  \n",
              "10  2.267826   2.841786   2.804576   3.237029  \n",
              "11  2.418157   4.092282   4.027866   4.216744  \n",
              "12  3.506167   6.052844   5.863190   5.829357  \n",
              "13  2.590200   4.409292   4.356605   4.303884  \n",
              "14  2.681146   1.899369   2.816461   3.120326  \n",
              "15  3.911913  10.654711  10.604033  12.691974  \n",
              "16  5.443422  11.265345  10.357222  11.135140  \n",
              "17  4.484711   4.599015   4.073614   4.132648  \n",
              "18  5.330324  10.946755   9.871221  13.813652  \n",
              "19  3.347769   4.655351   4.285546   4.790137  \n",
              "20  2.773263   5.120210   5.108236   4.799575  \n",
              "21  3.793906   2.707528   2.823132   3.122491  \n",
              "22  2.287781   4.813360   4.779948   5.004316  \n",
              "23  3.054375   4.585764   4.148360   4.804568  \n",
              "24  2.647873   5.942685   5.919138   5.896763  \n",
              "25  2.227003   4.390660   4.281885   4.947667  \n",
              "26  3.730420   3.324785   2.881639   2.658142  \n",
              "27  3.417016   5.151993   4.329894   4.640425  \n",
              "28  2.272624   3.275790   2.783273   3.702322  \n",
              "29  3.255089   6.758774   5.518344   5.164365  \n",
              "30  2.887818   6.851790   5.781976   6.151631  \n",
              "31  3.020911   8.608877   7.872556   8.339685  \n",
              "32  3.619832   6.456416   5.055745   5.824618  \n",
              "33  1.432480   3.190579   2.966392   3.338580  \n",
              "34  2.651443   3.589361   3.311779   3.378445  \n",
              "35  1.831306   2.939817   2.881407   3.029046  "
            ],
            "text/html": [
              "\n",
              "  <div id=\"df-25dd7ef3-a003-44c6-8496-bff174332b58\" class=\"colab-df-container\">\n",
              "    <div>\n",
              "<style scoped>\n",
              "    .dataframe tbody tr th:only-of-type {\n",
              "        vertical-align: middle;\n",
              "    }\n",
              "\n",
              "    .dataframe tbody tr th {\n",
              "        vertical-align: top;\n",
              "    }\n",
              "\n",
              "    .dataframe thead th {\n",
              "        text-align: right;\n",
              "    }\n",
              "</style>\n",
              "<table border=\"1\" class=\"dataframe\">\n",
              "  <thead>\n",
              "    <tr style=\"text-align: right;\">\n",
              "      <th></th>\n",
              "      <th>SUJETO</th>\n",
              "      <th>ESTADO</th>\n",
              "      <th>CANAL_1</th>\n",
              "      <th>CANAL_2</th>\n",
              "      <th>CANAL_3</th>\n",
              "      <th>CANAL_4</th>\n",
              "      <th>CANAL_5</th>\n",
              "      <th>CANAL_6</th>\n",
              "      <th>CANAL_7</th>\n",
              "      <th>CANAL_8</th>\n",
              "    </tr>\n",
              "  </thead>\n",
              "  <tbody>\n",
              "    <tr>\n",
              "      <th>0</th>\n",
              "      <td>C019_EP_reposo</td>\n",
              "      <td>CONTROL</td>\n",
              "      <td>4.125318</td>\n",
              "      <td>4.199776</td>\n",
              "      <td>4.343273</td>\n",
              "      <td>3.898911</td>\n",
              "      <td>4.015907</td>\n",
              "      <td>8.654621</td>\n",
              "      <td>9.854405</td>\n",
              "      <td>11.622417</td>\n",
              "    </tr>\n",
              "    <tr>\n",
              "      <th>1</th>\n",
              "      <td>C036_EP_reposo</td>\n",
              "      <td>CONTROL</td>\n",
              "      <td>2.314863</td>\n",
              "      <td>2.083070</td>\n",
              "      <td>1.191203</td>\n",
              "      <td>1.457257</td>\n",
              "      <td>1.992586</td>\n",
              "      <td>3.515789</td>\n",
              "      <td>3.245158</td>\n",
              "      <td>3.127411</td>\n",
              "    </tr>\n",
              "    <tr>\n",
              "      <th>2</th>\n",
              "      <td>C018_EP_reposo</td>\n",
              "      <td>CONTROL</td>\n",
              "      <td>3.952879</td>\n",
              "      <td>3.480142</td>\n",
              "      <td>3.761523</td>\n",
              "      <td>3.562217</td>\n",
              "      <td>4.066906</td>\n",
              "      <td>10.973493</td>\n",
              "      <td>8.832611</td>\n",
              "      <td>11.791848</td>\n",
              "    </tr>\n",
              "    <tr>\n",
              "      <th>3</th>\n",
              "      <td>C042_EP_reposo</td>\n",
              "      <td>CONTROL</td>\n",
              "      <td>4.715703</td>\n",
              "      <td>5.856181</td>\n",
              "      <td>6.224225</td>\n",
              "      <td>6.316118</td>\n",
              "      <td>5.932387</td>\n",
              "      <td>13.141030</td>\n",
              "      <td>10.384459</td>\n",
              "      <td>12.224536</td>\n",
              "    </tr>\n",
              "    <tr>\n",
              "      <th>4</th>\n",
              "      <td>C005_EP_reposo_Repetido</td>\n",
              "      <td>CONTROL</td>\n",
              "      <td>4.201863</td>\n",
              "      <td>4.178318</td>\n",
              "      <td>4.404567</td>\n",
              "      <td>4.208743</td>\n",
              "      <td>4.237067</td>\n",
              "      <td>7.300621</td>\n",
              "      <td>7.310457</td>\n",
              "      <td>7.500692</td>\n",
              "    </tr>\n",
              "    <tr>\n",
              "      <th>5</th>\n",
              "      <td>C028_EP_reposo</td>\n",
              "      <td>CONTROL</td>\n",
              "      <td>2.849372</td>\n",
              "      <td>2.539675</td>\n",
              "      <td>2.488602</td>\n",
              "      <td>2.466562</td>\n",
              "      <td>3.104830</td>\n",
              "      <td>5.374409</td>\n",
              "      <td>5.176020</td>\n",
              "      <td>5.867678</td>\n",
              "    </tr>\n",
              "    <tr>\n",
              "      <th>6</th>\n",
              "      <td>C001R_EP_reposo</td>\n",
              "      <td>CONTROL</td>\n",
              "      <td>3.276099</td>\n",
              "      <td>3.239283</td>\n",
              "      <td>3.373437</td>\n",
              "      <td>3.041845</td>\n",
              "      <td>3.855526</td>\n",
              "      <td>3.552757</td>\n",
              "      <td>3.375006</td>\n",
              "      <td>3.511310</td>\n",
              "    </tr>\n",
              "    <tr>\n",
              "      <th>7</th>\n",
              "      <td>C044_EP_reposo</td>\n",
              "      <td>CONTROL</td>\n",
              "      <td>2.874532</td>\n",
              "      <td>3.006220</td>\n",
              "      <td>3.540114</td>\n",
              "      <td>3.387208</td>\n",
              "      <td>3.488364</td>\n",
              "      <td>5.921014</td>\n",
              "      <td>5.635114</td>\n",
              "      <td>5.995475</td>\n",
              "    </tr>\n",
              "    <tr>\n",
              "      <th>8</th>\n",
              "      <td>C040_EP_reposo</td>\n",
              "      <td>CONTROL</td>\n",
              "      <td>4.020029</td>\n",
              "      <td>4.341877</td>\n",
              "      <td>4.615949</td>\n",
              "      <td>3.824422</td>\n",
              "      <td>3.666801</td>\n",
              "      <td>5.841388</td>\n",
              "      <td>5.119469</td>\n",
              "      <td>6.004825</td>\n",
              "    </tr>\n",
              "    <tr>\n",
              "      <th>9</th>\n",
              "      <td>C024_EP_reposo</td>\n",
              "      <td>CONTROL</td>\n",
              "      <td>4.068230</td>\n",
              "      <td>4.306021</td>\n",
              "      <td>4.909726</td>\n",
              "      <td>4.345020</td>\n",
              "      <td>3.764517</td>\n",
              "      <td>7.112335</td>\n",
              "      <td>6.626643</td>\n",
              "      <td>8.280819</td>\n",
              "    </tr>\n",
              "    <tr>\n",
              "      <th>10</th>\n",
              "      <td>C027_EP_reposo</td>\n",
              "      <td>CONTROL</td>\n",
              "      <td>2.202564</td>\n",
              "      <td>2.038455</td>\n",
              "      <td>2.374255</td>\n",
              "      <td>1.889310</td>\n",
              "      <td>2.267826</td>\n",
              "      <td>2.841786</td>\n",
              "      <td>2.804576</td>\n",
              "      <td>3.237029</td>\n",
              "    </tr>\n",
              "    <tr>\n",
              "      <th>11</th>\n",
              "      <td>C031_EP_reposo</td>\n",
              "      <td>CONTROL</td>\n",
              "      <td>2.720134</td>\n",
              "      <td>3.562298</td>\n",
              "      <td>2.679181</td>\n",
              "      <td>2.478776</td>\n",
              "      <td>2.418157</td>\n",
              "      <td>4.092282</td>\n",
              "      <td>4.027866</td>\n",
              "      <td>4.216744</td>\n",
              "    </tr>\n",
              "    <tr>\n",
              "      <th>12</th>\n",
              "      <td>C015_EP_reposo</td>\n",
              "      <td>CONTROL</td>\n",
              "      <td>2.963736</td>\n",
              "      <td>3.296855</td>\n",
              "      <td>3.835968</td>\n",
              "      <td>3.776917</td>\n",
              "      <td>3.506167</td>\n",
              "      <td>6.052844</td>\n",
              "      <td>5.863190</td>\n",
              "      <td>5.829357</td>\n",
              "    </tr>\n",
              "    <tr>\n",
              "      <th>13</th>\n",
              "      <td>C029_EP_reposo</td>\n",
              "      <td>CONTROL</td>\n",
              "      <td>2.583850</td>\n",
              "      <td>2.457544</td>\n",
              "      <td>2.455275</td>\n",
              "      <td>2.601644</td>\n",
              "      <td>2.590200</td>\n",
              "      <td>4.409292</td>\n",
              "      <td>4.356605</td>\n",
              "      <td>4.303884</td>\n",
              "    </tr>\n",
              "    <tr>\n",
              "      <th>14</th>\n",
              "      <td>C033R_EP_reposo</td>\n",
              "      <td>CONTROL</td>\n",
              "      <td>2.433127</td>\n",
              "      <td>3.636794</td>\n",
              "      <td>2.757838</td>\n",
              "      <td>2.547230</td>\n",
              "      <td>2.681146</td>\n",
              "      <td>1.899369</td>\n",
              "      <td>2.816461</td>\n",
              "      <td>3.120326</td>\n",
              "    </tr>\n",
              "    <tr>\n",
              "      <th>15</th>\n",
              "      <td>C013_EP_reposo</td>\n",
              "      <td>CONTROL</td>\n",
              "      <td>4.856262</td>\n",
              "      <td>5.249181</td>\n",
              "      <td>5.113066</td>\n",
              "      <td>4.164292</td>\n",
              "      <td>3.911913</td>\n",
              "      <td>10.654711</td>\n",
              "      <td>10.604033</td>\n",
              "      <td>12.691974</td>\n",
              "    </tr>\n",
              "    <tr>\n",
              "      <th>16</th>\n",
              "      <td>C034_EP_reposo</td>\n",
              "      <td>CONTROL</td>\n",
              "      <td>4.767270</td>\n",
              "      <td>4.618453</td>\n",
              "      <td>4.697842</td>\n",
              "      <td>5.041326</td>\n",
              "      <td>5.443422</td>\n",
              "      <td>11.265345</td>\n",
              "      <td>10.357222</td>\n",
              "      <td>11.135140</td>\n",
              "    </tr>\n",
              "    <tr>\n",
              "      <th>17</th>\n",
              "      <td>C041_EP_reposo</td>\n",
              "      <td>CONTROL</td>\n",
              "      <td>3.701769</td>\n",
              "      <td>3.244217</td>\n",
              "      <td>4.747758</td>\n",
              "      <td>4.974569</td>\n",
              "      <td>4.484711</td>\n",
              "      <td>4.599015</td>\n",
              "      <td>4.073614</td>\n",
              "      <td>4.132648</td>\n",
              "    </tr>\n",
              "    <tr>\n",
              "      <th>18</th>\n",
              "      <td>C025_EP_reposo</td>\n",
              "      <td>CONTROL</td>\n",
              "      <td>5.202848</td>\n",
              "      <td>4.955079</td>\n",
              "      <td>5.157234</td>\n",
              "      <td>5.349030</td>\n",
              "      <td>5.330324</td>\n",
              "      <td>10.946755</td>\n",
              "      <td>9.871221</td>\n",
              "      <td>13.813652</td>\n",
              "    </tr>\n",
              "    <tr>\n",
              "      <th>19</th>\n",
              "      <td>C049_EP_reposo</td>\n",
              "      <td>CONTROL</td>\n",
              "      <td>3.245374</td>\n",
              "      <td>2.975237</td>\n",
              "      <td>3.025361</td>\n",
              "      <td>3.349511</td>\n",
              "      <td>3.347769</td>\n",
              "      <td>4.655351</td>\n",
              "      <td>4.285546</td>\n",
              "      <td>4.790137</td>\n",
              "    </tr>\n",
              "    <tr>\n",
              "      <th>20</th>\n",
              "      <td>C023_EP_reposo</td>\n",
              "      <td>CONTROL</td>\n",
              "      <td>2.787134</td>\n",
              "      <td>3.685889</td>\n",
              "      <td>3.955700</td>\n",
              "      <td>3.319425</td>\n",
              "      <td>2.773263</td>\n",
              "      <td>5.120210</td>\n",
              "      <td>5.108236</td>\n",
              "      <td>4.799575</td>\n",
              "    </tr>\n",
              "    <tr>\n",
              "      <th>21</th>\n",
              "      <td>C004_EP_reposo</td>\n",
              "      <td>CONTROL</td>\n",
              "      <td>2.659763</td>\n",
              "      <td>3.023574</td>\n",
              "      <td>3.791433</td>\n",
              "      <td>2.671210</td>\n",
              "      <td>3.793906</td>\n",
              "      <td>2.707528</td>\n",
              "      <td>2.823132</td>\n",
              "      <td>3.122491</td>\n",
              "    </tr>\n",
              "    <tr>\n",
              "      <th>22</th>\n",
              "      <td>C012_EP_reposo</td>\n",
              "      <td>CONTROL</td>\n",
              "      <td>2.136941</td>\n",
              "      <td>2.146410</td>\n",
              "      <td>2.411059</td>\n",
              "      <td>2.324825</td>\n",
              "      <td>2.287781</td>\n",
              "      <td>4.813360</td>\n",
              "      <td>4.779948</td>\n",
              "      <td>5.004316</td>\n",
              "    </tr>\n",
              "    <tr>\n",
              "      <th>23</th>\n",
              "      <td>C030_EP_reposo</td>\n",
              "      <td>CONTROL</td>\n",
              "      <td>2.441376</td>\n",
              "      <td>2.488082</td>\n",
              "      <td>2.402696</td>\n",
              "      <td>2.410003</td>\n",
              "      <td>3.054375</td>\n",
              "      <td>4.585764</td>\n",
              "      <td>4.148360</td>\n",
              "      <td>4.804568</td>\n",
              "    </tr>\n",
              "    <tr>\n",
              "      <th>24</th>\n",
              "      <td>C046_EP_reposo</td>\n",
              "      <td>CONTROL</td>\n",
              "      <td>2.852440</td>\n",
              "      <td>2.556944</td>\n",
              "      <td>2.624447</td>\n",
              "      <td>2.529348</td>\n",
              "      <td>2.647873</td>\n",
              "      <td>5.942685</td>\n",
              "      <td>5.919138</td>\n",
              "      <td>5.896763</td>\n",
              "    </tr>\n",
              "    <tr>\n",
              "      <th>25</th>\n",
              "      <td>C045_EP_reposo</td>\n",
              "      <td>CONTROL</td>\n",
              "      <td>2.389531</td>\n",
              "      <td>2.636220</td>\n",
              "      <td>2.801198</td>\n",
              "      <td>2.157637</td>\n",
              "      <td>2.227003</td>\n",
              "      <td>4.390660</td>\n",
              "      <td>4.281885</td>\n",
              "      <td>4.947667</td>\n",
              "    </tr>\n",
              "    <tr>\n",
              "      <th>26</th>\n",
              "      <td>C037_EP_reposo</td>\n",
              "      <td>CONTROL</td>\n",
              "      <td>3.718129</td>\n",
              "      <td>3.893366</td>\n",
              "      <td>4.335398</td>\n",
              "      <td>3.592440</td>\n",
              "      <td>3.730420</td>\n",
              "      <td>3.324785</td>\n",
              "      <td>2.881639</td>\n",
              "      <td>2.658142</td>\n",
              "    </tr>\n",
              "    <tr>\n",
              "      <th>27</th>\n",
              "      <td>C006_EP_reposo</td>\n",
              "      <td>CONTROL</td>\n",
              "      <td>3.042271</td>\n",
              "      <td>3.141535</td>\n",
              "      <td>3.233558</td>\n",
              "      <td>3.303654</td>\n",
              "      <td>3.417016</td>\n",
              "      <td>5.151993</td>\n",
              "      <td>4.329894</td>\n",
              "      <td>4.640425</td>\n",
              "    </tr>\n",
              "    <tr>\n",
              "      <th>28</th>\n",
              "      <td>C010_EP_reposo</td>\n",
              "      <td>CONTROL</td>\n",
              "      <td>2.366174</td>\n",
              "      <td>2.339698</td>\n",
              "      <td>2.523589</td>\n",
              "      <td>2.317883</td>\n",
              "      <td>2.272624</td>\n",
              "      <td>3.275790</td>\n",
              "      <td>2.783273</td>\n",
              "      <td>3.702322</td>\n",
              "    </tr>\n",
              "    <tr>\n",
              "      <th>29</th>\n",
              "      <td>C032_EP_reposo</td>\n",
              "      <td>CONTROL</td>\n",
              "      <td>3.415512</td>\n",
              "      <td>3.301073</td>\n",
              "      <td>3.166785</td>\n",
              "      <td>3.058052</td>\n",
              "      <td>3.255089</td>\n",
              "      <td>6.758774</td>\n",
              "      <td>5.518344</td>\n",
              "      <td>5.164365</td>\n",
              "    </tr>\n",
              "    <tr>\n",
              "      <th>30</th>\n",
              "      <td>C002_EP_reposo</td>\n",
              "      <td>CONTROL</td>\n",
              "      <td>2.825456</td>\n",
              "      <td>2.967980</td>\n",
              "      <td>3.225286</td>\n",
              "      <td>3.134837</td>\n",
              "      <td>2.887818</td>\n",
              "      <td>6.851790</td>\n",
              "      <td>5.781976</td>\n",
              "      <td>6.151631</td>\n",
              "    </tr>\n",
              "    <tr>\n",
              "      <th>31</th>\n",
              "      <td>C021_EP_reposo</td>\n",
              "      <td>CONTROL</td>\n",
              "      <td>3.592186</td>\n",
              "      <td>3.946412</td>\n",
              "      <td>3.784203</td>\n",
              "      <td>3.242359</td>\n",
              "      <td>3.020911</td>\n",
              "      <td>8.608877</td>\n",
              "      <td>7.872556</td>\n",
              "      <td>8.339685</td>\n",
              "    </tr>\n",
              "    <tr>\n",
              "      <th>32</th>\n",
              "      <td>C011_EP_reposo</td>\n",
              "      <td>CONTROL</td>\n",
              "      <td>3.778301</td>\n",
              "      <td>3.619726</td>\n",
              "      <td>2.948220</td>\n",
              "      <td>2.936376</td>\n",
              "      <td>3.619832</td>\n",
              "      <td>6.456416</td>\n",
              "      <td>5.055745</td>\n",
              "      <td>5.824618</td>\n",
              "    </tr>\n",
              "    <tr>\n",
              "      <th>33</th>\n",
              "      <td>C020_EP_reposo</td>\n",
              "      <td>CONTROL</td>\n",
              "      <td>1.567652</td>\n",
              "      <td>1.747262</td>\n",
              "      <td>1.607413</td>\n",
              "      <td>1.438353</td>\n",
              "      <td>1.432480</td>\n",
              "      <td>3.190579</td>\n",
              "      <td>2.966392</td>\n",
              "      <td>3.338580</td>\n",
              "    </tr>\n",
              "    <tr>\n",
              "      <th>34</th>\n",
              "      <td>C007_EP_reposo</td>\n",
              "      <td>CONTROL</td>\n",
              "      <td>2.567110</td>\n",
              "      <td>2.638676</td>\n",
              "      <td>2.847718</td>\n",
              "      <td>2.482427</td>\n",
              "      <td>2.651443</td>\n",
              "      <td>3.589361</td>\n",
              "      <td>3.311779</td>\n",
              "      <td>3.378445</td>\n",
              "    </tr>\n",
              "    <tr>\n",
              "      <th>35</th>\n",
              "      <td>C026_EP_reposo</td>\n",
              "      <td>CONTROL</td>\n",
              "      <td>1.877964</td>\n",
              "      <td>1.800467</td>\n",
              "      <td>1.834888</td>\n",
              "      <td>1.798145</td>\n",
              "      <td>1.831306</td>\n",
              "      <td>2.939817</td>\n",
              "      <td>2.881407</td>\n",
              "      <td>3.029046</td>\n",
              "    </tr>\n",
              "  </tbody>\n",
              "</table>\n",
              "</div>\n",
              "    <div class=\"colab-df-buttons\">\n",
              "\n",
              "  <div class=\"colab-df-container\">\n",
              "    <button class=\"colab-df-convert\" onclick=\"convertToInteractive('df-25dd7ef3-a003-44c6-8496-bff174332b58')\"\n",
              "            title=\"Convert this dataframe to an interactive table.\"\n",
              "            style=\"display:none;\">\n",
              "\n",
              "  <svg xmlns=\"http://www.w3.org/2000/svg\" height=\"24px\" viewBox=\"0 -960 960 960\">\n",
              "    <path d=\"M120-120v-720h720v720H120Zm60-500h600v-160H180v160Zm220 220h160v-160H400v160Zm0 220h160v-160H400v160ZM180-400h160v-160H180v160Zm440 0h160v-160H620v160ZM180-180h160v-160H180v160Zm440 0h160v-160H620v160Z\"/>\n",
              "  </svg>\n",
              "    </button>\n",
              "\n",
              "  <style>\n",
              "    .colab-df-container {\n",
              "      display:flex;\n",
              "      gap: 12px;\n",
              "    }\n",
              "\n",
              "    .colab-df-convert {\n",
              "      background-color: #E8F0FE;\n",
              "      border: none;\n",
              "      border-radius: 50%;\n",
              "      cursor: pointer;\n",
              "      display: none;\n",
              "      fill: #1967D2;\n",
              "      height: 32px;\n",
              "      padding: 0 0 0 0;\n",
              "      width: 32px;\n",
              "    }\n",
              "\n",
              "    .colab-df-convert:hover {\n",
              "      background-color: #E2EBFA;\n",
              "      box-shadow: 0px 1px 2px rgba(60, 64, 67, 0.3), 0px 1px 3px 1px rgba(60, 64, 67, 0.15);\n",
              "      fill: #174EA6;\n",
              "    }\n",
              "\n",
              "    .colab-df-buttons div {\n",
              "      margin-bottom: 4px;\n",
              "    }\n",
              "\n",
              "    [theme=dark] .colab-df-convert {\n",
              "      background-color: #3B4455;\n",
              "      fill: #D2E3FC;\n",
              "    }\n",
              "\n",
              "    [theme=dark] .colab-df-convert:hover {\n",
              "      background-color: #434B5C;\n",
              "      box-shadow: 0px 1px 3px 1px rgba(0, 0, 0, 0.15);\n",
              "      filter: drop-shadow(0px 1px 2px rgba(0, 0, 0, 0.3));\n",
              "      fill: #FFFFFF;\n",
              "    }\n",
              "  </style>\n",
              "\n",
              "    <script>\n",
              "      const buttonEl =\n",
              "        document.querySelector('#df-25dd7ef3-a003-44c6-8496-bff174332b58 button.colab-df-convert');\n",
              "      buttonEl.style.display =\n",
              "        google.colab.kernel.accessAllowed ? 'block' : 'none';\n",
              "\n",
              "      async function convertToInteractive(key) {\n",
              "        const element = document.querySelector('#df-25dd7ef3-a003-44c6-8496-bff174332b58');\n",
              "        const dataTable =\n",
              "          await google.colab.kernel.invokeFunction('convertToInteractive',\n",
              "                                                    [key], {});\n",
              "        if (!dataTable) return;\n",
              "\n",
              "        const docLinkHtml = 'Like what you see? Visit the ' +\n",
              "          '<a target=\"_blank\" href=https://colab.research.google.com/notebooks/data_table.ipynb>data table notebook</a>'\n",
              "          + ' to learn more about interactive tables.';\n",
              "        element.innerHTML = '';\n",
              "        dataTable['output_type'] = 'display_data';\n",
              "        await google.colab.output.renderOutput(dataTable, element);\n",
              "        const docLink = document.createElement('div');\n",
              "        docLink.innerHTML = docLinkHtml;\n",
              "        element.appendChild(docLink);\n",
              "      }\n",
              "    </script>\n",
              "  </div>\n",
              "\n",
              "\n",
              "<div id=\"df-a142c8b0-7578-433a-b516-254904923bcd\">\n",
              "  <button class=\"colab-df-quickchart\" onclick=\"quickchart('df-a142c8b0-7578-433a-b516-254904923bcd')\"\n",
              "            title=\"Suggest charts\"\n",
              "            style=\"display:none;\">\n",
              "\n",
              "<svg xmlns=\"http://www.w3.org/2000/svg\" height=\"24px\"viewBox=\"0 0 24 24\"\n",
              "     width=\"24px\">\n",
              "    <g>\n",
              "        <path d=\"M19 3H5c-1.1 0-2 .9-2 2v14c0 1.1.9 2 2 2h14c1.1 0 2-.9 2-2V5c0-1.1-.9-2-2-2zM9 17H7v-7h2v7zm4 0h-2V7h2v10zm4 0h-2v-4h2v4z\"/>\n",
              "    </g>\n",
              "</svg>\n",
              "  </button>\n",
              "\n",
              "<style>\n",
              "  .colab-df-quickchart {\n",
              "      --bg-color: #E8F0FE;\n",
              "      --fill-color: #1967D2;\n",
              "      --hover-bg-color: #E2EBFA;\n",
              "      --hover-fill-color: #174EA6;\n",
              "      --disabled-fill-color: #AAA;\n",
              "      --disabled-bg-color: #DDD;\n",
              "  }\n",
              "\n",
              "  [theme=dark] .colab-df-quickchart {\n",
              "      --bg-color: #3B4455;\n",
              "      --fill-color: #D2E3FC;\n",
              "      --hover-bg-color: #434B5C;\n",
              "      --hover-fill-color: #FFFFFF;\n",
              "      --disabled-bg-color: #3B4455;\n",
              "      --disabled-fill-color: #666;\n",
              "  }\n",
              "\n",
              "  .colab-df-quickchart {\n",
              "    background-color: var(--bg-color);\n",
              "    border: none;\n",
              "    border-radius: 50%;\n",
              "    cursor: pointer;\n",
              "    display: none;\n",
              "    fill: var(--fill-color);\n",
              "    height: 32px;\n",
              "    padding: 0;\n",
              "    width: 32px;\n",
              "  }\n",
              "\n",
              "  .colab-df-quickchart:hover {\n",
              "    background-color: var(--hover-bg-color);\n",
              "    box-shadow: 0 1px 2px rgba(60, 64, 67, 0.3), 0 1px 3px 1px rgba(60, 64, 67, 0.15);\n",
              "    fill: var(--button-hover-fill-color);\n",
              "  }\n",
              "\n",
              "  .colab-df-quickchart-complete:disabled,\n",
              "  .colab-df-quickchart-complete:disabled:hover {\n",
              "    background-color: var(--disabled-bg-color);\n",
              "    fill: var(--disabled-fill-color);\n",
              "    box-shadow: none;\n",
              "  }\n",
              "\n",
              "  .colab-df-spinner {\n",
              "    border: 2px solid var(--fill-color);\n",
              "    border-color: transparent;\n",
              "    border-bottom-color: var(--fill-color);\n",
              "    animation:\n",
              "      spin 1s steps(1) infinite;\n",
              "  }\n",
              "\n",
              "  @keyframes spin {\n",
              "    0% {\n",
              "      border-color: transparent;\n",
              "      border-bottom-color: var(--fill-color);\n",
              "      border-left-color: var(--fill-color);\n",
              "    }\n",
              "    20% {\n",
              "      border-color: transparent;\n",
              "      border-left-color: var(--fill-color);\n",
              "      border-top-color: var(--fill-color);\n",
              "    }\n",
              "    30% {\n",
              "      border-color: transparent;\n",
              "      border-left-color: var(--fill-color);\n",
              "      border-top-color: var(--fill-color);\n",
              "      border-right-color: var(--fill-color);\n",
              "    }\n",
              "    40% {\n",
              "      border-color: transparent;\n",
              "      border-right-color: var(--fill-color);\n",
              "      border-top-color: var(--fill-color);\n",
              "    }\n",
              "    60% {\n",
              "      border-color: transparent;\n",
              "      border-right-color: var(--fill-color);\n",
              "    }\n",
              "    80% {\n",
              "      border-color: transparent;\n",
              "      border-right-color: var(--fill-color);\n",
              "      border-bottom-color: var(--fill-color);\n",
              "    }\n",
              "    90% {\n",
              "      border-color: transparent;\n",
              "      border-bottom-color: var(--fill-color);\n",
              "    }\n",
              "  }\n",
              "</style>\n",
              "\n",
              "  <script>\n",
              "    async function quickchart(key) {\n",
              "      const quickchartButtonEl =\n",
              "        document.querySelector('#' + key + ' button');\n",
              "      quickchartButtonEl.disabled = true;  // To prevent multiple clicks.\n",
              "      quickchartButtonEl.classList.add('colab-df-spinner');\n",
              "      try {\n",
              "        const charts = await google.colab.kernel.invokeFunction(\n",
              "            'suggestCharts', [key], {});\n",
              "      } catch (error) {\n",
              "        console.error('Error during call to suggestCharts:', error);\n",
              "      }\n",
              "      quickchartButtonEl.classList.remove('colab-df-spinner');\n",
              "      quickchartButtonEl.classList.add('colab-df-quickchart-complete');\n",
              "    }\n",
              "    (() => {\n",
              "      let quickchartButtonEl =\n",
              "        document.querySelector('#df-a142c8b0-7578-433a-b516-254904923bcd button');\n",
              "      quickchartButtonEl.style.display =\n",
              "        google.colab.kernel.accessAllowed ? 'block' : 'none';\n",
              "    })();\n",
              "  </script>\n",
              "</div>\n",
              "    </div>\n",
              "  </div>\n"
            ],
            "application/vnd.google.colaboratory.intrinsic+json": {
              "type": "dataframe",
              "variable_name": "Dframe_c",
              "summary": "{\n  \"name\": \"Dframe_c\",\n  \"rows\": 36,\n  \"fields\": [\n    {\n      \"column\": \"SUJETO\",\n      \"properties\": {\n        \"dtype\": \"string\",\n        \"num_unique_values\": 36,\n        \"samples\": [\n          \"C026_EP_reposo\",\n          \"C029_EP_reposo\",\n          \"C037_EP_reposo\"\n        ],\n        \"semantic_type\": \"\",\n        \"description\": \"\"\n      }\n    },\n    {\n      \"column\": \"ESTADO\",\n      \"properties\": {\n        \"dtype\": \"category\",\n        \"num_unique_values\": 1,\n        \"samples\": [\n          \"CONTROL\"\n        ],\n        \"semantic_type\": \"\",\n        \"description\": \"\"\n      }\n    },\n    {\n      \"column\": \"CANAL_1\",\n      \"properties\": {\n        \"dtype\": \"number\",\n        \"std\": 0.8992653192311366,\n        \"min\": 1.5676515522192942,\n        \"max\": 5.202848360397914,\n        \"num_unique_values\": 36,\n        \"samples\": [\n          1.8779637071637487\n        ],\n        \"semantic_type\": \"\",\n        \"description\": \"\"\n      }\n    },\n    {\n      \"column\": \"CANAL_2\",\n      \"properties\": {\n        \"dtype\": \"number\",\n        \"std\": 0.9782400840314991,\n        \"min\": 1.7472621365164571,\n        \"max\": 5.856181182241813,\n        \"num_unique_values\": 36,\n        \"samples\": [\n          1.8004665439443197\n        ],\n        \"semantic_type\": \"\",\n        \"description\": \"\"\n      }\n    },\n    {\n      \"column\": \"CANAL_3\",\n      \"properties\": {\n        \"dtype\": \"number\",\n        \"std\": 1.1170943615341302,\n        \"min\": 1.1912030511490854,\n        \"max\": 6.224225178298815,\n        \"num_unique_values\": 36,\n        \"samples\": [\n          1.8348883606171802\n        ],\n        \"semantic_type\": \"\",\n        \"description\": \"\"\n      }\n    },\n    {\n      \"column\": \"CANAL_4\",\n      \"properties\": {\n        \"dtype\": \"number\",\n        \"std\": 1.0953135111910375,\n        \"min\": 1.4383528535098626,\n        \"max\": 6.31611810706269,\n        \"num_unique_values\": 36,\n        \"samples\": [\n          1.798144972969315\n        ],\n        \"semantic_type\": \"\",\n        \"description\": \"\"\n      }\n    },\n    {\n      \"column\": \"CANAL_5\",\n      \"properties\": {\n        \"dtype\": \"number\",\n        \"std\": 1.0067298627816526,\n        \"min\": 1.4324795427171102,\n        \"max\": 5.932387201080322,\n        \"num_unique_values\": 36,\n        \"samples\": [\n          1.8313057933078092\n        ],\n        \"semantic_type\": \"\",\n        \"description\": \"\"\n      }\n    },\n    {\n      \"column\": \"CANAL_6\",\n      \"properties\": {\n        \"dtype\": \"number\",\n        \"std\": 2.7894882941325254,\n        \"min\": 1.8993686785478192,\n        \"max\": 13.141029915439663,\n        \"num_unique_values\": 36,\n        \"samples\": [\n          2.939816798022907\n        ],\n        \"semantic_type\": \"\",\n        \"description\": \"\"\n      }\n    },\n    {\n      \"column\": \"CANAL_7\",\n      \"properties\": {\n        \"dtype\": \"number\",\n        \"std\": 2.445607038449651,\n        \"min\": 2.7832726039802633,\n        \"max\": 10.604032946891522,\n        \"num_unique_values\": 36,\n        \"samples\": [\n          2.881406839008531\n        ],\n        \"semantic_type\": \"\",\n        \"description\": \"\"\n      }\n    },\n    {\n      \"column\": \"CANAL_8\",\n      \"properties\": {\n        \"dtype\": \"number\",\n        \"std\": 3.1416112200199358,\n        \"min\": 2.658142106742465,\n        \"max\": 13.813651918558852,\n        \"num_unique_values\": 36,\n        \"samples\": [\n          3.029046251989119\n        ],\n        \"semantic_type\": \"\",\n        \"description\": \"\"\n      }\n    }\n  ]\n}"
            }
          },
          "metadata": {},
          "execution_count": 41
        }
      ]
    },
    {
      "cell_type": "markdown",
      "source": [
        "- Creo el dataframe para el grupo parkinson"
      ],
      "metadata": {
        "id": "-9VRI6puc_AA"
      }
    },
    {
      "cell_type": "code",
      "source": [
        "#se crean las lista para llenar con la información.\n",
        "p0,p1,p2,p3,p4,p5,p6,p7=[], [], [], [], [], [], [], []\n",
        "Canales_sujeto_parkinson= []\n",
        "Canales_p=[]\n",
        "sp= []\n",
        "status_p=[]\n",
        "\n",
        "for sujeto_p in range(len(parkinson)): # se hace un for que me recorre los sujeros de control\n",
        "\n",
        "  subj_p = parkinson[sujeto_p].split('/')\n",
        "  subj_p= subj_p[len(subj_p)-1].split('.')\n",
        "  sp.append(subj_p[0])  # se extrae el ID del sujeto de la ruta del archivo y lo agrega a la lista sc_p\n",
        "  status_p.append(\"PARKINSON\") #se agrega el estado del sujeto en la lista status\n",
        "  Datos_sujeto_parkinson = sio.loadmat(parkinson[sujeto_p]) #se carga el archivo de datos para el sujeto utilizando la función loadmat\n",
        "  senal_p = Datos_sujeto_parkinson['data']\n",
        "   #2 VOLVERLO CONTINUO\n",
        "  se_p = senal_p.shape[0];\n",
        "  pu_p = senal_p.shape[1];\n",
        "  epo_p= senal_p.shape[2];\n",
        "\n",
        "  senal_par= np.reshape(senal_p,(se_p, pu_p*epo_p), order = 'F');\n",
        "  Canales_sujeto_parkinson.append(RMS_promedio(senal_par)) #se saca el rms para cada uno de los archivos de parkinson\n",
        "  # y se guardan en la lista Canales_sujeto_parkinson\n",
        "\n",
        "  #Se preparan las listas para la crecaion del dataframe\n",
        "Canales_p.extend(Canales_sujeto_parkinson) #se concatenan las listas de los pacientes control\n",
        "\n",
        "for p in Canales_p: #Se genera un for que me recorre la lisat canales y me lo guarda en una lista idependiente para la creación del Dataframe\n",
        "  p0.append(p[0])\n",
        "  p1.append(p[1])\n",
        "  p2.append(p[2])\n",
        "  p3.append(p[3])\n",
        "  p4.append(p[4])\n",
        "  p5.append(p[5])\n",
        "  p6.append(p[6])\n",
        "  p7.append(p[7])"
      ],
      "metadata": {
        "id": "CQWcGlAua93A"
      },
      "execution_count": 42,
      "outputs": []
    },
    {
      "cell_type": "code",
      "source": [
        "#Se asignan las listas a cada una de las columnas del dataframe\n",
        "Dframe_p= pd.DataFrame(list(zip(sp,status_p,p0,p1,p2,p3,p4,p5,p6,p7)), columns = ['SUJETO','ESTADO','CANAL_1','CANAL_2','CANAL_3','CANAL_4','CANAL_5','CANAL_6','CANAL_7','CANAL_8'])\n",
        "Dframe_p"
      ],
      "metadata": {
        "colab": {
          "base_uri": "https://localhost:8080/",
          "height": 771
        },
        "id": "0ewXLaKYd2Ui",
        "outputId": "c9a3b866-e3d3-4af3-ce95-ab70d3606300"
      },
      "execution_count": 43,
      "outputs": [
        {
          "output_type": "execute_result",
          "data": {
            "text/plain": [
              "            SUJETO     ESTADO   CANAL_1   CANAL_2   CANAL_3   CANAL_4  \\\n",
              "0   P033_EP_reposo  PARKINSON  2.974813  3.649882  4.029196  3.575049   \n",
              "1   P020_EP_reposo  PARKINSON  3.423890  3.611879  4.280218  3.581914   \n",
              "2   P034_EP_reposo  PARKINSON  3.945461  3.309078  2.928575  3.204172   \n",
              "3   P041_EP_reposo  PARKINSON  2.896254  3.199116  3.558133  3.466733   \n",
              "4   P017_EP_reposo  PARKINSON  2.188814  2.646561  2.189661  2.164958   \n",
              "5   P026_EP_reposo  PARKINSON  2.695595  2.988327  3.880785  3.845080   \n",
              "6   P046_EP_reposo  PARKINSON  4.011752  3.947124  4.021956  3.795453   \n",
              "7   P001_EP_reposo  PARKINSON  2.493817  2.372886  2.325901  2.178277   \n",
              "8   P032_EP_reposo  PARKINSON  4.117046  4.024641  3.820656  3.423384   \n",
              "9   P007_EP_reposo  PARKINSON  3.445455  3.321898  3.502879  3.301813   \n",
              "10  P025_EP_reposo  PARKINSON  4.945901  5.671189  6.525945  6.248489   \n",
              "11  P005_EP_reposo  PARKINSON  4.364178  4.667729  4.581484  4.567017   \n",
              "12  P004_EP_reposo  PARKINSON  2.999638  2.449653  2.478542  2.718999   \n",
              "13  P013_EP_reposo  PARKINSON  2.846262  2.561664  2.644681  2.525077   \n",
              "14  P048_EP_reposo  PARKINSON  2.337758  2.708371  3.288153  2.779321   \n",
              "15  P030_EP_reposo  PARKINSON  3.319249  3.259673  3.699294  2.568809   \n",
              "16  P012_EP_reposo  PARKINSON  4.928211  5.089525  6.048634  5.463868   \n",
              "17  P028_EP_reposo  PARKINSON  3.834201  3.950607  3.915608  3.514068   \n",
              "18  P049_EP_reposo  PARKINSON  2.828569  2.615158  2.830589  2.690921   \n",
              "19  P015_EP_reposo  PARKINSON  2.312244  2.328217  2.465197  3.475751   \n",
              "20  P018_EP_reposo  PARKINSON  3.439385  3.463398  3.913678  3.382964   \n",
              "21  P016_EP_reposo  PARKINSON  2.465485  2.588306  2.972278  2.724069   \n",
              "22  P040_EP_reposo  PARKINSON  4.996891  4.797421  4.834589  4.642699   \n",
              "\n",
              "     CANAL_5    CANAL_6    CANAL_7    CANAL_8  \n",
              "0   3.421668   5.352295   5.235917   5.463555  \n",
              "1   3.957938   6.844565   5.817685   7.454004  \n",
              "2   3.991514   6.316557   6.089040   5.766187  \n",
              "3   3.218985   6.180265   5.504504   6.386917  \n",
              "4   2.019275   3.805972   4.511424   4.279302  \n",
              "5   3.876530   3.323265   3.021797   3.037603  \n",
              "6   3.561504   5.455557   5.753440   5.875243  \n",
              "7   2.458766   3.376256   3.442428   3.578133  \n",
              "8   3.538390   7.833837   7.187750   7.100910  \n",
              "9   3.361126   8.009815   8.027717   8.740689  \n",
              "10  5.735531  15.143176  14.146848  16.645233  \n",
              "11  4.822538  11.217161   9.469568  11.453410  \n",
              "12  2.920482   5.656123   5.182444   5.762102  \n",
              "13  2.809335   5.036379   5.036975   6.070176  \n",
              "14  2.595288   3.806204   3.966701   4.033356  \n",
              "15  3.030952   6.534475   5.474887   6.015306  \n",
              "16  5.317526  11.981356  10.553336  13.291206  \n",
              "17  3.556449   5.829285   6.118259   7.194527  \n",
              "18  2.713286   3.965038   3.754462   4.069240  \n",
              "19  2.719299   4.653108   4.613076   4.418369  \n",
              "20  3.156922   5.707952   5.502401   5.405601  \n",
              "21  2.376735   4.398957   4.573236   5.537536  \n",
              "22  4.632670  14.574603  11.902637  14.298637  "
            ],
            "text/html": [
              "\n",
              "  <div id=\"df-6e5c8552-57f1-4b79-b769-bcf7fc97af05\" class=\"colab-df-container\">\n",
              "    <div>\n",
              "<style scoped>\n",
              "    .dataframe tbody tr th:only-of-type {\n",
              "        vertical-align: middle;\n",
              "    }\n",
              "\n",
              "    .dataframe tbody tr th {\n",
              "        vertical-align: top;\n",
              "    }\n",
              "\n",
              "    .dataframe thead th {\n",
              "        text-align: right;\n",
              "    }\n",
              "</style>\n",
              "<table border=\"1\" class=\"dataframe\">\n",
              "  <thead>\n",
              "    <tr style=\"text-align: right;\">\n",
              "      <th></th>\n",
              "      <th>SUJETO</th>\n",
              "      <th>ESTADO</th>\n",
              "      <th>CANAL_1</th>\n",
              "      <th>CANAL_2</th>\n",
              "      <th>CANAL_3</th>\n",
              "      <th>CANAL_4</th>\n",
              "      <th>CANAL_5</th>\n",
              "      <th>CANAL_6</th>\n",
              "      <th>CANAL_7</th>\n",
              "      <th>CANAL_8</th>\n",
              "    </tr>\n",
              "  </thead>\n",
              "  <tbody>\n",
              "    <tr>\n",
              "      <th>0</th>\n",
              "      <td>P033_EP_reposo</td>\n",
              "      <td>PARKINSON</td>\n",
              "      <td>2.974813</td>\n",
              "      <td>3.649882</td>\n",
              "      <td>4.029196</td>\n",
              "      <td>3.575049</td>\n",
              "      <td>3.421668</td>\n",
              "      <td>5.352295</td>\n",
              "      <td>5.235917</td>\n",
              "      <td>5.463555</td>\n",
              "    </tr>\n",
              "    <tr>\n",
              "      <th>1</th>\n",
              "      <td>P020_EP_reposo</td>\n",
              "      <td>PARKINSON</td>\n",
              "      <td>3.423890</td>\n",
              "      <td>3.611879</td>\n",
              "      <td>4.280218</td>\n",
              "      <td>3.581914</td>\n",
              "      <td>3.957938</td>\n",
              "      <td>6.844565</td>\n",
              "      <td>5.817685</td>\n",
              "      <td>7.454004</td>\n",
              "    </tr>\n",
              "    <tr>\n",
              "      <th>2</th>\n",
              "      <td>P034_EP_reposo</td>\n",
              "      <td>PARKINSON</td>\n",
              "      <td>3.945461</td>\n",
              "      <td>3.309078</td>\n",
              "      <td>2.928575</td>\n",
              "      <td>3.204172</td>\n",
              "      <td>3.991514</td>\n",
              "      <td>6.316557</td>\n",
              "      <td>6.089040</td>\n",
              "      <td>5.766187</td>\n",
              "    </tr>\n",
              "    <tr>\n",
              "      <th>3</th>\n",
              "      <td>P041_EP_reposo</td>\n",
              "      <td>PARKINSON</td>\n",
              "      <td>2.896254</td>\n",
              "      <td>3.199116</td>\n",
              "      <td>3.558133</td>\n",
              "      <td>3.466733</td>\n",
              "      <td>3.218985</td>\n",
              "      <td>6.180265</td>\n",
              "      <td>5.504504</td>\n",
              "      <td>6.386917</td>\n",
              "    </tr>\n",
              "    <tr>\n",
              "      <th>4</th>\n",
              "      <td>P017_EP_reposo</td>\n",
              "      <td>PARKINSON</td>\n",
              "      <td>2.188814</td>\n",
              "      <td>2.646561</td>\n",
              "      <td>2.189661</td>\n",
              "      <td>2.164958</td>\n",
              "      <td>2.019275</td>\n",
              "      <td>3.805972</td>\n",
              "      <td>4.511424</td>\n",
              "      <td>4.279302</td>\n",
              "    </tr>\n",
              "    <tr>\n",
              "      <th>5</th>\n",
              "      <td>P026_EP_reposo</td>\n",
              "      <td>PARKINSON</td>\n",
              "      <td>2.695595</td>\n",
              "      <td>2.988327</td>\n",
              "      <td>3.880785</td>\n",
              "      <td>3.845080</td>\n",
              "      <td>3.876530</td>\n",
              "      <td>3.323265</td>\n",
              "      <td>3.021797</td>\n",
              "      <td>3.037603</td>\n",
              "    </tr>\n",
              "    <tr>\n",
              "      <th>6</th>\n",
              "      <td>P046_EP_reposo</td>\n",
              "      <td>PARKINSON</td>\n",
              "      <td>4.011752</td>\n",
              "      <td>3.947124</td>\n",
              "      <td>4.021956</td>\n",
              "      <td>3.795453</td>\n",
              "      <td>3.561504</td>\n",
              "      <td>5.455557</td>\n",
              "      <td>5.753440</td>\n",
              "      <td>5.875243</td>\n",
              "    </tr>\n",
              "    <tr>\n",
              "      <th>7</th>\n",
              "      <td>P001_EP_reposo</td>\n",
              "      <td>PARKINSON</td>\n",
              "      <td>2.493817</td>\n",
              "      <td>2.372886</td>\n",
              "      <td>2.325901</td>\n",
              "      <td>2.178277</td>\n",
              "      <td>2.458766</td>\n",
              "      <td>3.376256</td>\n",
              "      <td>3.442428</td>\n",
              "      <td>3.578133</td>\n",
              "    </tr>\n",
              "    <tr>\n",
              "      <th>8</th>\n",
              "      <td>P032_EP_reposo</td>\n",
              "      <td>PARKINSON</td>\n",
              "      <td>4.117046</td>\n",
              "      <td>4.024641</td>\n",
              "      <td>3.820656</td>\n",
              "      <td>3.423384</td>\n",
              "      <td>3.538390</td>\n",
              "      <td>7.833837</td>\n",
              "      <td>7.187750</td>\n",
              "      <td>7.100910</td>\n",
              "    </tr>\n",
              "    <tr>\n",
              "      <th>9</th>\n",
              "      <td>P007_EP_reposo</td>\n",
              "      <td>PARKINSON</td>\n",
              "      <td>3.445455</td>\n",
              "      <td>3.321898</td>\n",
              "      <td>3.502879</td>\n",
              "      <td>3.301813</td>\n",
              "      <td>3.361126</td>\n",
              "      <td>8.009815</td>\n",
              "      <td>8.027717</td>\n",
              "      <td>8.740689</td>\n",
              "    </tr>\n",
              "    <tr>\n",
              "      <th>10</th>\n",
              "      <td>P025_EP_reposo</td>\n",
              "      <td>PARKINSON</td>\n",
              "      <td>4.945901</td>\n",
              "      <td>5.671189</td>\n",
              "      <td>6.525945</td>\n",
              "      <td>6.248489</td>\n",
              "      <td>5.735531</td>\n",
              "      <td>15.143176</td>\n",
              "      <td>14.146848</td>\n",
              "      <td>16.645233</td>\n",
              "    </tr>\n",
              "    <tr>\n",
              "      <th>11</th>\n",
              "      <td>P005_EP_reposo</td>\n",
              "      <td>PARKINSON</td>\n",
              "      <td>4.364178</td>\n",
              "      <td>4.667729</td>\n",
              "      <td>4.581484</td>\n",
              "      <td>4.567017</td>\n",
              "      <td>4.822538</td>\n",
              "      <td>11.217161</td>\n",
              "      <td>9.469568</td>\n",
              "      <td>11.453410</td>\n",
              "    </tr>\n",
              "    <tr>\n",
              "      <th>12</th>\n",
              "      <td>P004_EP_reposo</td>\n",
              "      <td>PARKINSON</td>\n",
              "      <td>2.999638</td>\n",
              "      <td>2.449653</td>\n",
              "      <td>2.478542</td>\n",
              "      <td>2.718999</td>\n",
              "      <td>2.920482</td>\n",
              "      <td>5.656123</td>\n",
              "      <td>5.182444</td>\n",
              "      <td>5.762102</td>\n",
              "    </tr>\n",
              "    <tr>\n",
              "      <th>13</th>\n",
              "      <td>P013_EP_reposo</td>\n",
              "      <td>PARKINSON</td>\n",
              "      <td>2.846262</td>\n",
              "      <td>2.561664</td>\n",
              "      <td>2.644681</td>\n",
              "      <td>2.525077</td>\n",
              "      <td>2.809335</td>\n",
              "      <td>5.036379</td>\n",
              "      <td>5.036975</td>\n",
              "      <td>6.070176</td>\n",
              "    </tr>\n",
              "    <tr>\n",
              "      <th>14</th>\n",
              "      <td>P048_EP_reposo</td>\n",
              "      <td>PARKINSON</td>\n",
              "      <td>2.337758</td>\n",
              "      <td>2.708371</td>\n",
              "      <td>3.288153</td>\n",
              "      <td>2.779321</td>\n",
              "      <td>2.595288</td>\n",
              "      <td>3.806204</td>\n",
              "      <td>3.966701</td>\n",
              "      <td>4.033356</td>\n",
              "    </tr>\n",
              "    <tr>\n",
              "      <th>15</th>\n",
              "      <td>P030_EP_reposo</td>\n",
              "      <td>PARKINSON</td>\n",
              "      <td>3.319249</td>\n",
              "      <td>3.259673</td>\n",
              "      <td>3.699294</td>\n",
              "      <td>2.568809</td>\n",
              "      <td>3.030952</td>\n",
              "      <td>6.534475</td>\n",
              "      <td>5.474887</td>\n",
              "      <td>6.015306</td>\n",
              "    </tr>\n",
              "    <tr>\n",
              "      <th>16</th>\n",
              "      <td>P012_EP_reposo</td>\n",
              "      <td>PARKINSON</td>\n",
              "      <td>4.928211</td>\n",
              "      <td>5.089525</td>\n",
              "      <td>6.048634</td>\n",
              "      <td>5.463868</td>\n",
              "      <td>5.317526</td>\n",
              "      <td>11.981356</td>\n",
              "      <td>10.553336</td>\n",
              "      <td>13.291206</td>\n",
              "    </tr>\n",
              "    <tr>\n",
              "      <th>17</th>\n",
              "      <td>P028_EP_reposo</td>\n",
              "      <td>PARKINSON</td>\n",
              "      <td>3.834201</td>\n",
              "      <td>3.950607</td>\n",
              "      <td>3.915608</td>\n",
              "      <td>3.514068</td>\n",
              "      <td>3.556449</td>\n",
              "      <td>5.829285</td>\n",
              "      <td>6.118259</td>\n",
              "      <td>7.194527</td>\n",
              "    </tr>\n",
              "    <tr>\n",
              "      <th>18</th>\n",
              "      <td>P049_EP_reposo</td>\n",
              "      <td>PARKINSON</td>\n",
              "      <td>2.828569</td>\n",
              "      <td>2.615158</td>\n",
              "      <td>2.830589</td>\n",
              "      <td>2.690921</td>\n",
              "      <td>2.713286</td>\n",
              "      <td>3.965038</td>\n",
              "      <td>3.754462</td>\n",
              "      <td>4.069240</td>\n",
              "    </tr>\n",
              "    <tr>\n",
              "      <th>19</th>\n",
              "      <td>P015_EP_reposo</td>\n",
              "      <td>PARKINSON</td>\n",
              "      <td>2.312244</td>\n",
              "      <td>2.328217</td>\n",
              "      <td>2.465197</td>\n",
              "      <td>3.475751</td>\n",
              "      <td>2.719299</td>\n",
              "      <td>4.653108</td>\n",
              "      <td>4.613076</td>\n",
              "      <td>4.418369</td>\n",
              "    </tr>\n",
              "    <tr>\n",
              "      <th>20</th>\n",
              "      <td>P018_EP_reposo</td>\n",
              "      <td>PARKINSON</td>\n",
              "      <td>3.439385</td>\n",
              "      <td>3.463398</td>\n",
              "      <td>3.913678</td>\n",
              "      <td>3.382964</td>\n",
              "      <td>3.156922</td>\n",
              "      <td>5.707952</td>\n",
              "      <td>5.502401</td>\n",
              "      <td>5.405601</td>\n",
              "    </tr>\n",
              "    <tr>\n",
              "      <th>21</th>\n",
              "      <td>P016_EP_reposo</td>\n",
              "      <td>PARKINSON</td>\n",
              "      <td>2.465485</td>\n",
              "      <td>2.588306</td>\n",
              "      <td>2.972278</td>\n",
              "      <td>2.724069</td>\n",
              "      <td>2.376735</td>\n",
              "      <td>4.398957</td>\n",
              "      <td>4.573236</td>\n",
              "      <td>5.537536</td>\n",
              "    </tr>\n",
              "    <tr>\n",
              "      <th>22</th>\n",
              "      <td>P040_EP_reposo</td>\n",
              "      <td>PARKINSON</td>\n",
              "      <td>4.996891</td>\n",
              "      <td>4.797421</td>\n",
              "      <td>4.834589</td>\n",
              "      <td>4.642699</td>\n",
              "      <td>4.632670</td>\n",
              "      <td>14.574603</td>\n",
              "      <td>11.902637</td>\n",
              "      <td>14.298637</td>\n",
              "    </tr>\n",
              "  </tbody>\n",
              "</table>\n",
              "</div>\n",
              "    <div class=\"colab-df-buttons\">\n",
              "\n",
              "  <div class=\"colab-df-container\">\n",
              "    <button class=\"colab-df-convert\" onclick=\"convertToInteractive('df-6e5c8552-57f1-4b79-b769-bcf7fc97af05')\"\n",
              "            title=\"Convert this dataframe to an interactive table.\"\n",
              "            style=\"display:none;\">\n",
              "\n",
              "  <svg xmlns=\"http://www.w3.org/2000/svg\" height=\"24px\" viewBox=\"0 -960 960 960\">\n",
              "    <path d=\"M120-120v-720h720v720H120Zm60-500h600v-160H180v160Zm220 220h160v-160H400v160Zm0 220h160v-160H400v160ZM180-400h160v-160H180v160Zm440 0h160v-160H620v160ZM180-180h160v-160H180v160Zm440 0h160v-160H620v160Z\"/>\n",
              "  </svg>\n",
              "    </button>\n",
              "\n",
              "  <style>\n",
              "    .colab-df-container {\n",
              "      display:flex;\n",
              "      gap: 12px;\n",
              "    }\n",
              "\n",
              "    .colab-df-convert {\n",
              "      background-color: #E8F0FE;\n",
              "      border: none;\n",
              "      border-radius: 50%;\n",
              "      cursor: pointer;\n",
              "      display: none;\n",
              "      fill: #1967D2;\n",
              "      height: 32px;\n",
              "      padding: 0 0 0 0;\n",
              "      width: 32px;\n",
              "    }\n",
              "\n",
              "    .colab-df-convert:hover {\n",
              "      background-color: #E2EBFA;\n",
              "      box-shadow: 0px 1px 2px rgba(60, 64, 67, 0.3), 0px 1px 3px 1px rgba(60, 64, 67, 0.15);\n",
              "      fill: #174EA6;\n",
              "    }\n",
              "\n",
              "    .colab-df-buttons div {\n",
              "      margin-bottom: 4px;\n",
              "    }\n",
              "\n",
              "    [theme=dark] .colab-df-convert {\n",
              "      background-color: #3B4455;\n",
              "      fill: #D2E3FC;\n",
              "    }\n",
              "\n",
              "    [theme=dark] .colab-df-convert:hover {\n",
              "      background-color: #434B5C;\n",
              "      box-shadow: 0px 1px 3px 1px rgba(0, 0, 0, 0.15);\n",
              "      filter: drop-shadow(0px 1px 2px rgba(0, 0, 0, 0.3));\n",
              "      fill: #FFFFFF;\n",
              "    }\n",
              "  </style>\n",
              "\n",
              "    <script>\n",
              "      const buttonEl =\n",
              "        document.querySelector('#df-6e5c8552-57f1-4b79-b769-bcf7fc97af05 button.colab-df-convert');\n",
              "      buttonEl.style.display =\n",
              "        google.colab.kernel.accessAllowed ? 'block' : 'none';\n",
              "\n",
              "      async function convertToInteractive(key) {\n",
              "        const element = document.querySelector('#df-6e5c8552-57f1-4b79-b769-bcf7fc97af05');\n",
              "        const dataTable =\n",
              "          await google.colab.kernel.invokeFunction('convertToInteractive',\n",
              "                                                    [key], {});\n",
              "        if (!dataTable) return;\n",
              "\n",
              "        const docLinkHtml = 'Like what you see? Visit the ' +\n",
              "          '<a target=\"_blank\" href=https://colab.research.google.com/notebooks/data_table.ipynb>data table notebook</a>'\n",
              "          + ' to learn more about interactive tables.';\n",
              "        element.innerHTML = '';\n",
              "        dataTable['output_type'] = 'display_data';\n",
              "        await google.colab.output.renderOutput(dataTable, element);\n",
              "        const docLink = document.createElement('div');\n",
              "        docLink.innerHTML = docLinkHtml;\n",
              "        element.appendChild(docLink);\n",
              "      }\n",
              "    </script>\n",
              "  </div>\n",
              "\n",
              "\n",
              "<div id=\"df-2fcb2e84-76e0-49c5-9f9a-4ad5a71b4be9\">\n",
              "  <button class=\"colab-df-quickchart\" onclick=\"quickchart('df-2fcb2e84-76e0-49c5-9f9a-4ad5a71b4be9')\"\n",
              "            title=\"Suggest charts\"\n",
              "            style=\"display:none;\">\n",
              "\n",
              "<svg xmlns=\"http://www.w3.org/2000/svg\" height=\"24px\"viewBox=\"0 0 24 24\"\n",
              "     width=\"24px\">\n",
              "    <g>\n",
              "        <path d=\"M19 3H5c-1.1 0-2 .9-2 2v14c0 1.1.9 2 2 2h14c1.1 0 2-.9 2-2V5c0-1.1-.9-2-2-2zM9 17H7v-7h2v7zm4 0h-2V7h2v10zm4 0h-2v-4h2v4z\"/>\n",
              "    </g>\n",
              "</svg>\n",
              "  </button>\n",
              "\n",
              "<style>\n",
              "  .colab-df-quickchart {\n",
              "      --bg-color: #E8F0FE;\n",
              "      --fill-color: #1967D2;\n",
              "      --hover-bg-color: #E2EBFA;\n",
              "      --hover-fill-color: #174EA6;\n",
              "      --disabled-fill-color: #AAA;\n",
              "      --disabled-bg-color: #DDD;\n",
              "  }\n",
              "\n",
              "  [theme=dark] .colab-df-quickchart {\n",
              "      --bg-color: #3B4455;\n",
              "      --fill-color: #D2E3FC;\n",
              "      --hover-bg-color: #434B5C;\n",
              "      --hover-fill-color: #FFFFFF;\n",
              "      --disabled-bg-color: #3B4455;\n",
              "      --disabled-fill-color: #666;\n",
              "  }\n",
              "\n",
              "  .colab-df-quickchart {\n",
              "    background-color: var(--bg-color);\n",
              "    border: none;\n",
              "    border-radius: 50%;\n",
              "    cursor: pointer;\n",
              "    display: none;\n",
              "    fill: var(--fill-color);\n",
              "    height: 32px;\n",
              "    padding: 0;\n",
              "    width: 32px;\n",
              "  }\n",
              "\n",
              "  .colab-df-quickchart:hover {\n",
              "    background-color: var(--hover-bg-color);\n",
              "    box-shadow: 0 1px 2px rgba(60, 64, 67, 0.3), 0 1px 3px 1px rgba(60, 64, 67, 0.15);\n",
              "    fill: var(--button-hover-fill-color);\n",
              "  }\n",
              "\n",
              "  .colab-df-quickchart-complete:disabled,\n",
              "  .colab-df-quickchart-complete:disabled:hover {\n",
              "    background-color: var(--disabled-bg-color);\n",
              "    fill: var(--disabled-fill-color);\n",
              "    box-shadow: none;\n",
              "  }\n",
              "\n",
              "  .colab-df-spinner {\n",
              "    border: 2px solid var(--fill-color);\n",
              "    border-color: transparent;\n",
              "    border-bottom-color: var(--fill-color);\n",
              "    animation:\n",
              "      spin 1s steps(1) infinite;\n",
              "  }\n",
              "\n",
              "  @keyframes spin {\n",
              "    0% {\n",
              "      border-color: transparent;\n",
              "      border-bottom-color: var(--fill-color);\n",
              "      border-left-color: var(--fill-color);\n",
              "    }\n",
              "    20% {\n",
              "      border-color: transparent;\n",
              "      border-left-color: var(--fill-color);\n",
              "      border-top-color: var(--fill-color);\n",
              "    }\n",
              "    30% {\n",
              "      border-color: transparent;\n",
              "      border-left-color: var(--fill-color);\n",
              "      border-top-color: var(--fill-color);\n",
              "      border-right-color: var(--fill-color);\n",
              "    }\n",
              "    40% {\n",
              "      border-color: transparent;\n",
              "      border-right-color: var(--fill-color);\n",
              "      border-top-color: var(--fill-color);\n",
              "    }\n",
              "    60% {\n",
              "      border-color: transparent;\n",
              "      border-right-color: var(--fill-color);\n",
              "    }\n",
              "    80% {\n",
              "      border-color: transparent;\n",
              "      border-right-color: var(--fill-color);\n",
              "      border-bottom-color: var(--fill-color);\n",
              "    }\n",
              "    90% {\n",
              "      border-color: transparent;\n",
              "      border-bottom-color: var(--fill-color);\n",
              "    }\n",
              "  }\n",
              "</style>\n",
              "\n",
              "  <script>\n",
              "    async function quickchart(key) {\n",
              "      const quickchartButtonEl =\n",
              "        document.querySelector('#' + key + ' button');\n",
              "      quickchartButtonEl.disabled = true;  // To prevent multiple clicks.\n",
              "      quickchartButtonEl.classList.add('colab-df-spinner');\n",
              "      try {\n",
              "        const charts = await google.colab.kernel.invokeFunction(\n",
              "            'suggestCharts', [key], {});\n",
              "      } catch (error) {\n",
              "        console.error('Error during call to suggestCharts:', error);\n",
              "      }\n",
              "      quickchartButtonEl.classList.remove('colab-df-spinner');\n",
              "      quickchartButtonEl.classList.add('colab-df-quickchart-complete');\n",
              "    }\n",
              "    (() => {\n",
              "      let quickchartButtonEl =\n",
              "        document.querySelector('#df-2fcb2e84-76e0-49c5-9f9a-4ad5a71b4be9 button');\n",
              "      quickchartButtonEl.style.display =\n",
              "        google.colab.kernel.accessAllowed ? 'block' : 'none';\n",
              "    })();\n",
              "  </script>\n",
              "</div>\n",
              "    </div>\n",
              "  </div>\n"
            ],
            "application/vnd.google.colaboratory.intrinsic+json": {
              "type": "dataframe",
              "variable_name": "Dframe_p",
              "summary": "{\n  \"name\": \"Dframe_p\",\n  \"rows\": 23,\n  \"fields\": [\n    {\n      \"column\": \"SUJETO\",\n      \"properties\": {\n        \"dtype\": \"string\",\n        \"num_unique_values\": 23,\n        \"samples\": [\n          \"P030_EP_reposo\",\n          \"P007_EP_reposo\",\n          \"P033_EP_reposo\"\n        ],\n        \"semantic_type\": \"\",\n        \"description\": \"\"\n      }\n    },\n    {\n      \"column\": \"ESTADO\",\n      \"properties\": {\n        \"dtype\": \"category\",\n        \"num_unique_values\": 1,\n        \"samples\": [\n          \"PARKINSON\"\n        ],\n        \"semantic_type\": \"\",\n        \"description\": \"\"\n      }\n    },\n    {\n      \"column\": \"CANAL_1\",\n      \"properties\": {\n        \"dtype\": \"number\",\n        \"std\": 0.8733614503230526,\n        \"min\": 2.188813659331955,\n        \"max\": 4.9968906994042745,\n        \"num_unique_values\": 23,\n        \"samples\": [\n          3.3192494762355222\n        ],\n        \"semantic_type\": \"\",\n        \"description\": \"\"\n      }\n    },\n    {\n      \"column\": \"CANAL_2\",\n      \"properties\": {\n        \"dtype\": \"number\",\n        \"std\": 0.9294597398869178,\n        \"min\": 2.3282168350739036,\n        \"max\": 5.671189007755778,\n        \"num_unique_values\": 23,\n        \"samples\": [\n          3.259672879475477\n        ],\n        \"semantic_type\": \"\",\n        \"description\": \"\"\n      }\n    },\n    {\n      \"column\": \"CANAL_3\",\n      \"properties\": {\n        \"dtype\": \"number\",\n        \"std\": 1.1007744645592203,\n        \"min\": 2.189660961950357,\n        \"max\": 6.525944950444123,\n        \"num_unique_values\": 23,\n        \"samples\": [\n          3.699293840774137\n        ],\n        \"semantic_type\": \"\",\n        \"description\": \"\"\n      }\n    },\n    {\n      \"column\": \"CANAL_4\",\n      \"properties\": {\n        \"dtype\": \"number\",\n        \"std\": 0.9985470134967633,\n        \"min\": 2.1649579290762735,\n        \"max\": 6.24848885139863,\n        \"num_unique_values\": 23,\n        \"samples\": [\n          2.568808699387785\n        ],\n        \"semantic_type\": \"\",\n        \"description\": \"\"\n      }\n    },\n    {\n      \"column\": \"CANAL_5\",\n      \"properties\": {\n        \"dtype\": \"number\",\n        \"std\": 0.9475596410009227,\n        \"min\": 2.0192748522597257,\n        \"max\": 5.735530726805321,\n        \"num_unique_values\": 23,\n        \"samples\": [\n          3.030951653980554\n        ],\n        \"semantic_type\": \"\",\n        \"description\": \"\"\n      }\n    },\n    {\n      \"column\": \"CANAL_6\",\n      \"properties\": {\n        \"dtype\": \"number\",\n        \"std\": 3.372034188601258,\n        \"min\": 3.3232650482786035,\n        \"max\": 15.143175747901926,\n        \"num_unique_values\": 23,\n        \"samples\": [\n          6.534474880546534\n        ],\n        \"semantic_type\": \"\",\n        \"description\": \"\"\n      }\n    },\n    {\n      \"column\": \"CANAL_7\",\n      \"properties\": {\n        \"dtype\": \"number\",\n        \"std\": 2.790166390627334,\n        \"min\": 3.021797365196586,\n        \"max\": 14.146848372722742,\n        \"num_unique_values\": 23,\n        \"samples\": [\n          5.474887208085209\n        ],\n        \"semantic_type\": \"\",\n        \"description\": \"\"\n      }\n    },\n    {\n      \"column\": \"CANAL_8\",\n      \"properties\": {\n        \"dtype\": \"number\",\n        \"std\": 3.5764503851119693,\n        \"min\": 3.0376033718247077,\n        \"max\": 16.645233254814006,\n        \"num_unique_values\": 23,\n        \"samples\": [\n          6.015305853825808\n        ],\n        \"semantic_type\": \"\",\n        \"description\": \"\"\n      }\n    }\n  ]\n}"
            }
          },
          "metadata": {},
          "execution_count": 43
        }
      ]
    },
    {
      "cell_type": "markdown",
      "source": [
        "#Análisis estadístico"
      ],
      "metadata": {
        "id": "fieAfJ3yB3uf"
      }
    },
    {
      "cell_type": "markdown",
      "source": [
        "Para poder definir el tipo de pruebas a realizar, primero se hace una comprobación de los siguientes supuestos\n",
        "- Independencia\n",
        "- Normalidad\n",
        "- Homocedasticidad"
      ],
      "metadata": {
        "id": "b7CEawjCB_KH"
      }
    },
    {
      "cell_type": "markdown",
      "source": [
        "**1. Independencia**\n",
        "\n",
        " Se asume que los datos son independientes ya que fueron tomados de grupos de sujetos control y con enfermedad de parkinson que no guardan relación alguna entre si."
      ],
      "metadata": {
        "id": "thz_z1OnDIYP"
      }
    },
    {
      "cell_type": "markdown",
      "source": [
        "**2. Normalidad**\n",
        "\n",
        "Se realiza la prueba Shapiro-Wilk, para determinar si las señales distribuyen de forma normal o no, para ello se crean las siguentes hipótesis.\n",
        "\n",
        "H0 = La distribución de los datos es normal.\n",
        "\n",
        "H1 = La distribución de los datos no es normal.\n",
        "\n",
        "Se calcula el valor p;\n",
        "\n",
        "se define un α = 0.05\n",
        "\n",
        "Por tanto si p es mayor a α, entonces se puede asumir con un 95% de certeza que los datos están distribuidos de manera normal.\n"
      ],
      "metadata": {
        "id": "iDODxU7zDUNt"
      }
    },
    {
      "cell_type": "code",
      "source": [
        "con=np.array(Canales_sujeto_control)\n",
        "par=np.array(Canales_sujeto_parkinson)"
      ],
      "metadata": {
        "id": "OFcsfO2GB3Kx"
      },
      "execution_count": 44,
      "outputs": []
    },
    {
      "cell_type": "markdown",
      "source": [
        "- Prueba de normalidad para los canales de los sujetos control"
      ],
      "metadata": {
        "id": "elm8FwzSFM5i"
      }
    },
    {
      "cell_type": "code",
      "source": [
        "# prueba para el canal 1\n",
        "\n",
        "canal_1=con[0]\n",
        "shapiro_test = stats.shapiro(canal_1)\n",
        "print(\"Prueba de Shapiro-Wilk para cal1:\")\n",
        "print(\"Estadística de prueba:\", shapiro_test.statistic)\n",
        "print(\"Valor p:\", shapiro_test.pvalue)\n",
        "#Si el valor p es menor a 0.05 entonces se define como normal su distribución\n",
        "if  shapiro_test.pvalue> 0.05:\n",
        "  valor_p= 'Normal'\n",
        "\n",
        "else:\n",
        "  valor_p= 'No normal'\n",
        "\n",
        "print(valor_p)\n"
      ],
      "metadata": {
        "colab": {
          "base_uri": "https://localhost:8080/"
        },
        "id": "8NkS8EgTjjsC",
        "outputId": "c4d93e4a-ee62-4d69-b18f-422fc89623b3"
      },
      "execution_count": 45,
      "outputs": [
        {
          "output_type": "stream",
          "name": "stdout",
          "text": [
            "Prueba de Shapiro-Wilk para cal1:\n",
            "Estadística de prueba: 0.7608669996261597\n",
            "Valor p: 0.010763216763734818\n",
            "No normal\n"
          ]
        }
      ]
    },
    {
      "cell_type": "code",
      "source": [
        "canal_2=con[1]\n",
        "shapiro_test = stats.shapiro(canal_2)\n",
        "print(\"Prueba de Shapiro-Wilk para cal1:\")\n",
        "print(\"Estadística de prueba:\", shapiro_test.statistic)\n",
        "print(\"Valor p:\", shapiro_test.pvalue)\n",
        "#Si el valor p es menor a 0.05 entonces se define como normal su distribución\n",
        "if  shapiro_test.pvalue> 0.05:\n",
        "  valor_p= 'Normal'\n",
        "\n",
        "else:\n",
        "  valor_p= 'No normal'\n",
        "\n",
        "print(valor_p)"
      ],
      "metadata": {
        "colab": {
          "base_uri": "https://localhost:8080/"
        },
        "id": "DRUtNyW6lJrN",
        "outputId": "dee16827-9dbc-441b-aff9-453a495866b6"
      },
      "execution_count": 46,
      "outputs": [
        {
          "output_type": "stream",
          "name": "stdout",
          "text": [
            "Prueba de Shapiro-Wilk para cal1:\n",
            "Estadística de prueba: 0.9346309900283813\n",
            "Valor p: 0.5591438412666321\n",
            "Normal\n"
          ]
        }
      ]
    },
    {
      "cell_type": "markdown",
      "source": [
        "- Prueba de normalidad para sujetos con parkinson"
      ],
      "metadata": {
        "id": "BcOb1jEEn7SY"
      }
    },
    {
      "cell_type": "code",
      "source": [
        "canal_p_1=par[0]\n",
        "shapiro_test = stats.shapiro(canal_p_1)\n",
        "print(\"Prueba de Shapiro-Wilk para cal1:\")\n",
        "print(\"Estadística de prueba:\", shapiro_test.statistic)\n",
        "print(\"Valor p:\", shapiro_test.pvalue)\n",
        "#Si el valor p es menor a 0.05 entonces se define como normal su distribución\n",
        "if  shapiro_test.pvalue> 0.05:\n",
        "  valor_p= 'Normal'\n",
        "\n",
        "else:\n",
        "  valor_p= 'No normal'\n",
        "\n",
        "print(valor_p)"
      ],
      "metadata": {
        "colab": {
          "base_uri": "https://localhost:8080/"
        },
        "id": "Keufw2sml3es",
        "outputId": "7636f4f5-4472-45aa-f5e2-e8b78097acfc"
      },
      "execution_count": 47,
      "outputs": [
        {
          "output_type": "stream",
          "name": "stdout",
          "text": [
            "Prueba de Shapiro-Wilk para cal1:\n",
            "Estadística de prueba: 0.8642528057098389\n",
            "Valor p: 0.13233539462089539\n",
            "Normal\n"
          ]
        }
      ]
    },
    {
      "cell_type": "code",
      "source": [
        "canal_p_2=par[1]\n",
        "shapiro_test = stats.shapiro(canal_p_2)\n",
        "print(\"Prueba de Shapiro-Wilk para cal1:\")\n",
        "print(\"Estadística de prueba:\", shapiro_test.statistic)\n",
        "print(\"Valor p:\", shapiro_test.pvalue)\n",
        "#Si el valor p es menor a 0.05 entonces se define como normal su distribución\n",
        "if  shapiro_test.pvalue> 0.05:\n",
        "  valor_p= 'Normal'\n",
        "\n",
        "else:\n",
        "  valor_p= 'No normal'\n",
        "\n",
        "print(valor_p)"
      ],
      "metadata": {
        "colab": {
          "base_uri": "https://localhost:8080/"
        },
        "id": "1D0ALvmAoMIY",
        "outputId": "93a25c8e-624f-4aab-f8e3-01cfadac5bdc"
      },
      "execution_count": 48,
      "outputs": [
        {
          "output_type": "stream",
          "name": "stdout",
          "text": [
            "Prueba de Shapiro-Wilk para cal1:\n",
            "Estadística de prueba: 0.8347644805908203\n",
            "Valor p: 0.06652094423770905\n",
            "Normal\n"
          ]
        }
      ]
    },
    {
      "cell_type": "markdown",
      "source": [
        "Como se observa, tanto para los datos del grupo control como los del grupo parkinson presentan un comportamiento no normal, por lo que se deben realizar pruebar no paramétricas , sin embargo, también se realiza la prueba de hocedasticidad, según lo solicitado\n",
        "\n"
      ],
      "metadata": {
        "id": "RGgHKDbyosn-"
      }
    },
    {
      "cell_type": "markdown",
      "source": [
        "**3. Homocedasticidad**"
      ],
      "metadata": {
        "id": "5MjKtEV7zQ30"
      }
    },
    {
      "cell_type": "markdown",
      "source": [
        "Supuestos\n",
        "\n",
        "H0: la varianza es constante\n",
        "\n",
        "H1: la parianza No es constante\n",
        "\n",
        "Se calcula el valor p;\n",
        "\n",
        "se define un α = 0.05"
      ],
      "metadata": {
        "id": "EWpp5Nf70FQk"
      }
    },
    {
      "cell_type": "markdown",
      "source": [
        "- Prueba para el grupo control"
      ],
      "metadata": {
        "id": "XlhUgOI_0fqk"
      }
    },
    {
      "cell_type": "code",
      "source": [
        "_, p_homoc = stats.levene(con[0],con[1] )\n",
        "print(f'\\nPrueba de homocedasticidad (Levene):')\n",
        "print(f'p-valor: {p_homoc:.4f}')\n",
        "#Si el valor p es menor se acepta la hipotesis nula\n",
        "if  p_homoc> 0.05:\n",
        "  valor_h= 'Varianza cte'\n",
        "\n",
        "else:\n",
        "  valor_h= 'Varianza cte'\n",
        "\n",
        "print(valor_p)"
      ],
      "metadata": {
        "colab": {
          "base_uri": "https://localhost:8080/"
        },
        "id": "1GZQCXlMzces",
        "outputId": "e939d434-a194-4e04-a82d-5d021d911422"
      },
      "execution_count": 49,
      "outputs": [
        {
          "output_type": "stream",
          "name": "stdout",
          "text": [
            "\n",
            "Prueba de homocedasticidad (Levene):\n",
            "p-valor: 0.1600\n",
            "Normal\n"
          ]
        }
      ]
    },
    {
      "cell_type": "code",
      "source": [
        "_, p_homoc = stats.levene(con[2],con[3] )\n",
        "print(f'\\nPrueba de homocedasticidad (Levene):')\n",
        "print(f'p-valor: {p_homoc:.4f}')\n",
        "#Si el valor p es menor se acepta la hipotesis nula\n",
        "if  p_homoc> 0.05:\n",
        "  valor_h= 'Varianza cte'\n",
        "\n",
        "else:\n",
        "  valor_h= 'Varianza cte'\n",
        "\n",
        "print(valor_p)"
      ],
      "metadata": {
        "colab": {
          "base_uri": "https://localhost:8080/"
        },
        "id": "t_pr3G450nCu",
        "outputId": "31918360-dbcb-4481-a1c9-00501079512b"
      },
      "execution_count": 50,
      "outputs": [
        {
          "output_type": "stream",
          "name": "stdout",
          "text": [
            "\n",
            "Prueba de homocedasticidad (Levene):\n",
            "p-valor: 0.9007\n",
            "Normal\n"
          ]
        }
      ]
    },
    {
      "cell_type": "markdown",
      "source": [
        "- Prueba para sujetos con parkinson"
      ],
      "metadata": {
        "id": "LYzuGzTA1aJL"
      }
    },
    {
      "cell_type": "code",
      "source": [
        "_, p_homoc = stats.levene(par[0],par[1] )\n",
        "print(f'\\nPrueba de homocedasticidad (Levene):')\n",
        "print(f'p-valor: {p_homoc:.4f}')\n",
        "#Si el valor p es menor se acepta la hipotesis nula\n",
        "if  p_homoc> 0.05:\n",
        "  valor_h= 'Varianza cte'\n",
        "\n",
        "else:\n",
        "  valor_h= 'Varianza cte'\n",
        "\n",
        "print(valor_p)"
      ],
      "metadata": {
        "colab": {
          "base_uri": "https://localhost:8080/"
        },
        "id": "3TQDGIaF1oLX",
        "outputId": "f1461779-2a3a-4f5a-bf55-6de315f77793"
      },
      "execution_count": 51,
      "outputs": [
        {
          "output_type": "stream",
          "name": "stdout",
          "text": [
            "\n",
            "Prueba de homocedasticidad (Levene):\n",
            "p-valor: 0.4011\n",
            "Normal\n"
          ]
        }
      ]
    },
    {
      "cell_type": "code",
      "source": [
        "_, p_homoc = stats.levene(con[2],con[3] )\n",
        "print(f'\\nPrueba de homocedasticidad (Levene):')\n",
        "print(f'p-valor: {p_homoc:.4f}')\n",
        "#Si el valor p es menor se acepta la hipotesis nula\n",
        "if  p_homoc> 0.05:\n",
        "  valor_h= 'Varianza cte'\n",
        "\n",
        "else:\n",
        "  valor_h= 'Varianza cte'\n",
        "\n",
        "print(valor_p)"
      ],
      "metadata": {
        "colab": {
          "base_uri": "https://localhost:8080/"
        },
        "id": "vDLURll410tB",
        "outputId": "f17460ca-fc87-465c-d841-a817be58446a"
      },
      "execution_count": 52,
      "outputs": [
        {
          "output_type": "stream",
          "name": "stdout",
          "text": [
            "\n",
            "Prueba de homocedasticidad (Levene):\n",
            "p-valor: 0.9007\n",
            "Normal\n"
          ]
        }
      ]
    },
    {
      "cell_type": "markdown",
      "source": [
        "**Observación:** Para ambas poblaciones se evidencia que existe homocedasticidad dado que la varianza entre cada canal es constante a lo largo de la señal.​"
      ],
      "metadata": {
        "id": "svDH0C0N2MUj"
      }
    },
    {
      "cell_type": "markdown",
      "source": [
        "*Teniendo en cuetas los resultados anteriores y que los datos son independientes entre sí, realiza la prueba Mann Whitney, para la cual se plantean los siguientes supuestos:*\n",
        "\n",
        "H0 = Las medianas de ambas poblaciobes son iguales.\n",
        "\n",
        "H1 = Las medianas de ambas poblaciobes NO son iguales.\n",
        "\n",
        "Se define un α = 0.05"
      ],
      "metadata": {
        "id": "LYnblp89r3OK"
      }
    },
    {
      "cell_type": "code",
      "source": [
        "#: Comparar dos ciclos utilizando U de mann-W\n",
        "cycle1 = con[0]\n",
        "cycle2 = par[0]\n",
        "\n",
        "# Realizar la prueba de U de Mann-Whitney\n",
        "estadistico_u, p_valor = mannwhitneyu(cycle1, cycle2)\n",
        "\n",
        "# Imprimir los resultados\n",
        "print(f\"Estadístico U de Mann-Whitney: {estadistico_u:.4f}\")\n",
        "print(f\"P-valor: {p_valor:.4f}\")\n",
        "\n",
        "# Interpretación del p-valor\n",
        "alpha = 0.05  # Nivel de significancia\n",
        "if p_valor < alpha:\n",
        "    print(\"Hay una diferencia significativa entre los ciclos.\")\n",
        "else:\n",
        "    print(\"No hay una diferencia significativa entre los ciclos.\")"
      ],
      "metadata": {
        "colab": {
          "base_uri": "https://localhost:8080/"
        },
        "id": "E7tFgDbXr2gg",
        "outputId": "05353766-691f-4df2-b526-20efa7d92ae6"
      },
      "execution_count": 53,
      "outputs": [
        {
          "output_type": "stream",
          "name": "stdout",
          "text": [
            "Estadístico U de Mann-Whitney: 47.0000\n",
            "P-valor: 0.1304\n",
            "No hay una diferencia significativa entre los ciclos.\n"
          ]
        }
      ]
    },
    {
      "cell_type": "code",
      "source": [
        "#: Comparar dos ciclos utilizando U de mann-W\n",
        "cycle1 = con[1]\n",
        "cycle2 = par[1]\n",
        "\n",
        "# Realizar la prueba de U de Mann-Whitney\n",
        "estadistico_u, p_valor = mannwhitneyu(cycle1, cycle2)\n",
        "\n",
        "# Imprimir los resultados\n",
        "print(f\"Estadístico U de Mann-Whitney: {estadistico_u:.4f}\")\n",
        "print(f\"P-valor: {p_valor:.4f}\")\n",
        "\n",
        "# Interpretación del p-valor\n",
        "alpha = 0.05  # Nivel de significancia\n",
        "if p_valor < alpha:\n",
        "    print(\"Hay una diferencia significativa entre los ciclos.\")\n",
        "else:\n",
        "    print(\"No hay una diferencia significativa entre los ciclos.\")"
      ],
      "metadata": {
        "colab": {
          "base_uri": "https://localhost:8080/"
        },
        "id": "9ndyBul7rYzY",
        "outputId": "8daa148b-03ec-4f4c-cfb6-51f9d0c49e43"
      },
      "execution_count": 54,
      "outputs": [
        {
          "output_type": "stream",
          "name": "stdout",
          "text": [
            "Estadístico U de Mann-Whitney: 1.0000\n",
            "P-valor: 0.0003\n",
            "Hay una diferencia significativa entre los ciclos.\n"
          ]
        }
      ]
    },
    {
      "cell_type": "markdown",
      "source": [
        "Los resultados previamente obtenidos conducen a la aceptación de la hipótesis nula, lo que sugiere que no hay evidencia estadística para respaldar la idea de que exista una diferencia significativa entre las medianas de los dos grupos poblacionales.Esto implica que, según los datos analizados, las características estudiadas parecen comportarse de manera similar en ambos grupos, sin que se observe una discrepancia notable."
      ],
      "metadata": {
        "id": "Un1WLjVdwsFj"
      }
    }
  ]
}